{
 "cells": [
  {
   "cell_type": "code",
   "execution_count": 1,
   "id": "3efbcfb6-83cf-41a6-81ec-8e950eeacf7d",
   "metadata": {},
   "outputs": [],
   "source": [
    "import polars as pl\n",
    "import polars.selectors as cs\n",
    "import sqlite3"
   ]
  },
  {
   "cell_type": "markdown",
   "id": "02cf4cca-6435-4de1-9d26-d1313996b9a3",
   "metadata": {},
   "source": [
    "## Setup\n",
    "\n",
    "I've decided that for this year I want to commit to using [Polars](https://pola.rs/) in a Jupyter notebook for all the puzzles.\n",
    "So here I load the SQLite data into a Polars DataFrame that I'll try to reuse across all puzzles.\n",
    "\n",
    "I cheat a _little_ bit here by starting with a query that I incrementally worked toward [in 2022](https://dev.to/ajkerrigan/series/21177)."
   ]
  },
  {
   "cell_type": "code",
   "execution_count": 2,
   "id": "5f36c467-5bf2-439d-aa5a-31d753b58b95",
   "metadata": {},
   "outputs": [],
   "source": [
    "con = sqlite3.connect('5784/noahs.sqlite')\n",
    "df = pl.read_database(\n",
    "    connection=con,\n",
    "    query='''\n",
    "        select\n",
    "          c.*,\n",
    "          o.orderid,\n",
    "          o.ordered,\n",
    "          o.shipped,\n",
    "          o.total,\n",
    "          i.qty,\n",
    "          i.unit_price,\n",
    "          p.sku,\n",
    "          p.desc,\n",
    "          p.wholesale_cost\n",
    "        from\n",
    "          customers c\n",
    "          join orders o on c.customerid = o.customerid\n",
    "          join orders_items i on o.orderid = i.orderid\n",
    "          join products p on i.sku = p.sku\n",
    "  ''',\n",
    ")"
   ]
  },
  {
   "cell_type": "markdown",
   "id": "95d797dd-5c6f-43ec-b7c4-4322e4303a55",
   "metadata": {},
   "source": [
    "## Puzzle Solutions"
   ]
  },
  {
   "cell_type": "markdown",
   "id": "4603bafd-d008-4b81-a7e8-a49226dc4e0a",
   "metadata": {},
   "source": [
    "### Puzzle 1\n",
    "\n",
    "**Useful Facts:**\n",
    "\n",
    "- Target customer is a private investigator\n",
    "- Translating that customer's last name to numbers using a phone pad as a key produces the customer's phone number"
   ]
  },
  {
   "cell_type": "markdown",
   "id": "ec5257d3-5b9d-4b48-8f8f-854ee9c01efa",
   "metadata": {},
   "source": [
    "#### Polars Helper\n",
    "\n",
    "It would be nice to have a convenient Polars-native way to translate a customer's name to its phone number equivalent.\n",
    "This seems like a good case for [extending the Polars expression namespace](https://pola-rs.github.io/polars/py-polars/html/reference/api.html#extending-the-api)."
   ]
  },
  {
   "cell_type": "code",
   "execution_count": 3,
   "id": "13d2bfe0-8c32-4cb4-974b-1cfea6355d12",
   "metadata": {},
   "outputs": [],
   "source": [
    "@pl.api.register_expr_namespace(\"phonepad\")\n",
    "class Phonepad:\n",
    "   \n",
    "    def __init__(self, expr: pl.Expr):\n",
    "        self._expr = expr\n",
    "        \n",
    "    def to_numbers(self):\n",
    "        return             (\n",
    "                self._expr.str.to_lowercase()\n",
    "                .str.replace_all(r\"[^a-z]\", \"\")\n",
    "                .str.replace_all(r\"[abc]\", \"2\")\n",
    "                .str.replace_all(r\"[def]\", \"3\")\n",
    "                .str.replace_all(r\"[ghi]\", \"4\")\n",
    "                .str.replace_all(r\"[jkl]\", \"5\")\n",
    "                .str.replace_all(r\"[mno]\", \"6\")\n",
    "                .str.replace_all(r\"[pqrs]\", \"7\")\n",
    "                .str.replace_all(r\"[tuv]\", \"8\")\n",
    "                .str.replace_all(r\"[wxyz]\", \"9\")\n",
    "            )\n",
    "        "
   ]
  },
  {
   "cell_type": "markdown",
   "id": "7a9ae3ea-920c-4da2-a883-1d999c483838",
   "metadata": {},
   "source": [
    "#### Solution\n",
    "\n",
    "With a convenience expression namespace/method, we can check to see if a customer's phonified name contains the digits of their phone number."
   ]
  },
  {
   "cell_type": "code",
   "execution_count": 4,
   "id": "2fbd0301-72fc-4c33-abe1-4421e751b450",
   "metadata": {},
   "outputs": [
    {
     "data": {
      "text/plain": [
       "'826-636-2286'"
      ]
     },
     "execution_count": 4,
     "metadata": {},
     "output_type": "execute_result"
    }
   ],
   "source": [
    "day1 = df.filter(\n",
    "    pl.col(\"name\").phonepad.to_numbers().str.contains(\n",
    "        pl.col(\"phone\").str.replace_all(r\"[^\\d]+\", \"\")\n",
    "    )\n",
    ")\n",
    "\n",
    "day1.select(\"phone\").unique().item()\n"
   ]
  },
  {
   "cell_type": "markdown",
   "id": "92c17c85-f225-4f2a-966f-8a5ea71ab525",
   "metadata": {},
   "source": [
    "### Puzzle 2\n",
    "\n",
    "**Useful Facts:**\n",
    "\n",
    "- Target customer had initials JP\n",
    "- Bought coffee and bagels in 2017\n",
    "\n",
    "This is doable by chaining together filters against a customer's name, order history and order date."
   ]
  },
  {
   "cell_type": "code",
   "execution_count": 5,
   "id": "8233cf37-68f4-4146-9581-da12ce405f45",
   "metadata": {},
   "outputs": [
    {
     "data": {
      "text/plain": [
       "'332-274-4185'"
      ]
     },
     "execution_count": 5,
     "metadata": {},
     "output_type": "execute_result"
    }
   ],
   "source": [
    "day2 = df.filter(\n",
    "    (pl.col(\"name\").str.contains(r'J.*P'))\n",
    "    & (pl.col(\"desc\").str.contains(r'(?i)(coffee|bagel)'))\n",
    "    & (pl.col(\"ordered\").str.strptime(pl.Datetime).dt.year() == 2017)\n",
    ")\n",
    "\n",
    "day2.select(\"phone\").unique().item()"
   ]
  },
  {
   "cell_type": "markdown",
   "id": "065aa4c8-49ed-4291-9974-c9fa8e370ba3",
   "metadata": {},
   "source": [
    "### Puzzle 3\n",
    "\n",
    "**Useful Facts:**\n",
    "\n",
    "- Target customer lives in last customer's neighborhood\n",
    "  - Maybe city, maybe zip code\n",
    "  - Try city/state/zip match first\n",
    "- Cancer\n",
    "  - June 21 - July 22\n",
    "  - Julian values 173 - 203\n",
    "- Year of the rabbit\n",
    "  - Birth year mod 12 = 7"
   ]
  },
  {
   "cell_type": "code",
   "execution_count": 6,
   "id": "c74dc056-037e-46cc-bd93-cdb494ae9e10",
   "metadata": {},
   "outputs": [
    {
     "data": {
      "text/html": [
       "<div><style>\n",
       ".dataframe > thead > tr,\n",
       ".dataframe > tbody > tr {\n",
       "  text-align: right;\n",
       "  white-space: pre-wrap;\n",
       "}\n",
       "</style>\n",
       "<small>shape: (1, 3)</small><table border=\"1\" class=\"dataframe\"><thead><tr><th>name</th><th>citystatezip</th><th>phone</th></tr><tr><td>str</td><td>str</td><td>str</td></tr></thead><tbody><tr><td>&quot;Robert Morton&quot;</td><td>&quot;Jamaica, NY 11…</td><td>&quot;917-288-9635&quot;</td></tr></tbody></table></div>"
      ],
      "text/plain": [
       "shape: (1, 3)\n",
       "┌───────────────┬───────────────────┬──────────────┐\n",
       "│ name          ┆ citystatezip      ┆ phone        │\n",
       "│ ---           ┆ ---               ┆ ---          │\n",
       "│ str           ┆ str               ┆ str          │\n",
       "╞═══════════════╪═══════════════════╪══════════════╡\n",
       "│ Robert Morton ┆ Jamaica, NY 11435 ┆ 917-288-9635 │\n",
       "└───────────────┴───────────────────┴──────────────┘"
      ]
     },
     "execution_count": 6,
     "metadata": {},
     "output_type": "execute_result"
    }
   ],
   "source": [
    "neighborhood = day2.select(\"citystatezip\").unique().item()\n",
    "\n",
    "day3 = df.filter(\n",
    "    (pl.col(\"birthdate\").str.strptime(pl.Datetime).dt.ordinal_day().is_between(173, 203))\n",
    "    & (pl.col(\"birthdate\").str.strptime(pl.Datetime).dt.year() % 12 == 7)\n",
    "    & (pl.col(\"citystatezip\") == neighborhood)\n",
    ")\n",
    "\n",
    "day3.select([\"name\", \"citystatezip\", \"phone\"]).unique()"
   ]
  },
  {
   "cell_type": "markdown",
   "id": "428b2fac-7743-49d6-bb1a-bba230934c9f",
   "metadata": {},
   "source": [
    "#### Puzzle 4\n",
    "\n",
    "**Useful Facts:**\n",
    "\n",
    "- Target customer buys pastries early - before 5am\n",
    "  - Years ago\n",
    "- Is a woman\n",
    "- Came by bike - maybe assume close by, same city?"
   ]
  },
  {
   "cell_type": "code",
   "execution_count": 7,
   "id": "7a95e255-ad2f-4359-a8ee-93b958750a31",
   "metadata": {},
   "outputs": [
    {
     "data": {
      "text/html": [
       "<div><style>\n",
       ".dataframe > thead > tr,\n",
       ".dataframe > tbody > tr {\n",
       "  text-align: right;\n",
       "  white-space: pre-wrap;\n",
       "}\n",
       "</style>\n",
       "<small>shape: (5, 3)</small><table border=\"1\" class=\"dataframe\"><thead><tr><th>name</th><th>phone</th><th>ordercount</th></tr><tr><td>str</td><td>str</td><td>u32</td></tr></thead><tbody><tr><td>&quot;Renee Harmon&quot;</td><td>&quot;607-231-3605&quot;</td><td>5</td></tr><tr><td>&quot;James Eaton&quot;</td><td>&quot;838-958-4372&quot;</td><td>3</td></tr><tr><td>&quot;Christopher Ga…</td><td>&quot;716-263-0817&quot;</td><td>2</td></tr><tr><td>&quot;Lindsey Mays&quot;</td><td>&quot;631-280-4337&quot;</td><td>2</td></tr><tr><td>&quot;Mark Huber&quot;</td><td>&quot;516-870-0290&quot;</td><td>1</td></tr></tbody></table></div>"
      ],
      "text/plain": [
       "shape: (5, 3)\n",
       "┌────────────────────┬──────────────┬────────────┐\n",
       "│ name               ┆ phone        ┆ ordercount │\n",
       "│ ---                ┆ ---          ┆ ---        │\n",
       "│ str                ┆ str          ┆ u32        │\n",
       "╞════════════════════╪══════════════╪════════════╡\n",
       "│ Renee Harmon       ┆ 607-231-3605 ┆ 5          │\n",
       "│ James Eaton        ┆ 838-958-4372 ┆ 3          │\n",
       "│ Christopher Garcia ┆ 716-263-0817 ┆ 2          │\n",
       "│ Lindsey Mays       ┆ 631-280-4337 ┆ 2          │\n",
       "│ Mark Huber         ┆ 516-870-0290 ┆ 1          │\n",
       "└────────────────────┴──────────────┴────────────┘"
      ]
     },
     "execution_count": 7,
     "metadata": {},
     "output_type": "execute_result"
    }
   ],
   "source": [
    "day4 = df.filter(\n",
    "    (pl.col(\"sku\").str.starts_with(\"BKY\"))\n",
    "    & (pl.col(\"ordered\").str.strptime(pl.Datetime).dt.hour() == 4)\n",
    ").group_by([\"name\", \"phone\"]).agg(\n",
    "    pl.col(\"orderid\").count().alias(\"ordercount\")\n",
    ").top_k(5, by=\"ordercount\")\n",
    "\n",
    "day4.select([\"name\", \"phone\", \"ordercount\"])"
   ]
  },
  {
   "cell_type": "markdown",
   "id": "7ffb8407-78ed-4603-95d0-d4bb9a122426",
   "metadata": {},
   "source": [
    "### Puzzle 5\n",
    "\n",
    "- Target customer is from Staten Island\n",
    "- Has lots of (old) cats"
   ]
  },
  {
   "cell_type": "code",
   "execution_count": 10,
   "id": "83bbbae9-f9e1-43b5-8fd6-efa06a6f61ea",
   "metadata": {},
   "outputs": [
    {
     "data": {
      "text/html": [
       "<div><style>\n",
       ".dataframe > thead > tr,\n",
       ".dataframe > tbody > tr {\n",
       "  text-align: right;\n",
       "  white-space: pre-wrap;\n",
       "}\n",
       "</style>\n",
       "<small>shape: (5, 3)</small><table border=\"1\" class=\"dataframe\"><thead><tr><th>name</th><th>phone</th><th>ordercount</th></tr><tr><td>str</td><td>str</td><td>u32</td></tr></thead><tbody><tr><td>&quot;Nicole Wilson&quot;</td><td>&quot;631-507-6048&quot;</td><td>21</td></tr><tr><td>&quot;Dawn Shelton&quot;</td><td>&quot;680-260-3507&quot;</td><td>6</td></tr><tr><td>&quot;Brian Hudson I…</td><td>&quot;516-570-4577&quot;</td><td>6</td></tr><tr><td>&quot;Kayla Solis&quot;</td><td>&quot;929-877-1866&quot;</td><td>6</td></tr><tr><td>&quot;Sean Wade Jr.&quot;</td><td>&quot;347-916-9069&quot;</td><td>5</td></tr></tbody></table></div>"
      ],
      "text/plain": [
       "shape: (5, 3)\n",
       "┌──────────────────┬──────────────┬────────────┐\n",
       "│ name             ┆ phone        ┆ ordercount │\n",
       "│ ---              ┆ ---          ┆ ---        │\n",
       "│ str              ┆ str          ┆ u32        │\n",
       "╞══════════════════╪══════════════╪════════════╡\n",
       "│ Nicole Wilson    ┆ 631-507-6048 ┆ 21         │\n",
       "│ Dawn Shelton     ┆ 680-260-3507 ┆ 6          │\n",
       "│ Brian Hudson III ┆ 516-570-4577 ┆ 6          │\n",
       "│ Kayla Solis      ┆ 929-877-1866 ┆ 6          │\n",
       "│ Sean Wade Jr.    ┆ 347-916-9069 ┆ 5          │\n",
       "└──────────────────┴──────────────┴────────────┘"
      ]
     },
     "execution_count": 10,
     "metadata": {},
     "output_type": "execute_result"
    }
   ],
   "source": [
    "day5 = df.filter(\n",
    "    (pl.col(\"citystatezip\").str.starts_with(\"Staten Island\"))\n",
    "    & (pl.col(\"desc\").str.contains(r\"(?i)senior.*cat\"))\n",
    ").group_by([\"name\", \"phone\"]).agg(\n",
    "    pl.col(\"orderid\").count().alias(\"ordercount\")\n",
    ")\n",
    "\n",
    "day5.top_k(5, by=\"ordercount\")"
   ]
  },
  {
   "cell_type": "code",
   "execution_count": null,
   "id": "8a608864-48c3-49b0-bf42-c0d80a030235",
   "metadata": {},
   "outputs": [],
   "source": []
  }
 ],
 "metadata": {
  "kernelspec": {
   "display_name": "hod",
   "language": "python",
   "name": "hod"
  },
  "language_info": {
   "codemirror_mode": {
    "name": "ipython",
    "version": 3
   },
   "file_extension": ".py",
   "mimetype": "text/x-python",
   "name": "python",
   "nbconvert_exporter": "python",
   "pygments_lexer": "ipython3",
   "version": "3.12.0"
  }
 },
 "nbformat": 4,
 "nbformat_minor": 5
}
