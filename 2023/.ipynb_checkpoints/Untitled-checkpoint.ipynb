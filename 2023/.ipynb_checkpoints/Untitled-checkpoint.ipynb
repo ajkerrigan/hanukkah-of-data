{
 "cells": [
  {
   "cell_type": "code",
   "execution_count": 9,
   "id": "3efbcfb6-83cf-41a6-81ec-8e950eeacf7d",
   "metadata": {},
   "outputs": [],
   "source": [
    "import polars as pl\n",
    "import sqlite3"
   ]
  },
  {
   "cell_type": "code",
   "execution_count": 11,
   "id": "5f36c467-5bf2-439d-aa5a-31d753b58b95",
   "metadata": {},
   "outputs": [],
   "source": [
    "\n",
    "con = sqlite3.connect('5784/noahs.sqlite')\n",
    "df = pl.read_database(\n",
    "    connection=con,\n",
    "    query='''\n",
    "select\n",
    "  c.*,\n",
    "  o.orderid,\n",
    "  o.ordered,\n",
    "  o.shipped,\n",
    "  o.total,\n",
    "  i.qty,\n",
    "  i.unit_price,\n",
    "  p.sku,\n",
    "  p.desc,\n",
    "  p.wholesale_cost\n",
    "from\n",
    "  customers c\n",
    "  join orders o on c.customerid = o.customerid\n",
    "  join orders_items i on o.orderid = i.orderid\n",
    "  join products p on i.sku = p.sku''')"
   ]
  },
  {
   "cell_type": "code",
   "execution_count": 56,
   "id": "13d2bfe0-8c32-4cb4-974b-1cfea6355d12",
   "metadata": {},
   "outputs": [
    {
     "name": "stderr",
     "output_type": "stream",
     "text": [
      "/tmp/ipykernel_3610998/196667970.py:1: UserWarning: Overriding existing custom namespace 'phonepad' (on 'Series')\n",
      "  @pl.api.register_series_namespace(\"phonepad\")\n"
     ]
    }
   ],
   "source": [
    "@pl.api.register_series_namespace(\"phonepad\")\n",
    "class Phonepad:\n",
    "    phone_pad = {\n",
    "        \"abc\": 2,\n",
    "        \"def\": 3,\n",
    "        \"ghi\": 4,\n",
    "        \"jkl\": 5,\n",
    "        \"mno\": 6,\n",
    "        \"pqrs\": 7,\n",
    "        \"tuv\": 8,\n",
    "        \"wxyz\": 9,\n",
    "        \" \": \"\",\n",
    "    }\n",
    "    \n",
    "    def __init__(self, s: pl.Series):\n",
    "        self._s = s\n",
    "        \n",
    "    def to_numbers(self):\n",
    "        return self._s\n",
    "        "
   ]
  },
  {
   "cell_type": "code",
   "execution_count": 64,
   "id": "98f1aced-fb29-40c0-b0cf-6147fac0f768",
   "metadata": {},
   "outputs": [
    {
     "ename": "AttributeError",
     "evalue": "'str' object has no attribute 'alias'",
     "output_type": "error",
     "traceback": [
      "\u001b[0;31m---------------------------------------------------------------------------\u001b[0m",
      "\u001b[0;31mAttributeError\u001b[0m                            Traceback (most recent call last)",
      "Cell \u001b[0;32mIn[64], line 1\u001b[0m\n\u001b[0;32m----> 1\u001b[0m df\u001b[38;5;241m.\u001b[39mselect([pl\u001b[38;5;241m.\u001b[39mcol(\u001b[38;5;124m\"\u001b[39m\u001b[38;5;124mname\u001b[39m\u001b[38;5;124m\"\u001b[39m), \u001b[43mpl\u001b[49m\u001b[38;5;241;43m.\u001b[39;49m\u001b[43mcol\u001b[49m\u001b[43m(\u001b[49m\u001b[38;5;124;43m\"\u001b[39;49m\u001b[38;5;124;43mname\u001b[39;49m\u001b[38;5;124;43m\"\u001b[39;49m\u001b[43m)\u001b[49m\u001b[38;5;241;43m.\u001b[39;49m\u001b[43mphonepad\u001b[49m\u001b[38;5;241;43m.\u001b[39;49m\u001b[43mto_numbers\u001b[49m\u001b[43m(\u001b[49m\u001b[43m)\u001b[49m\u001b[38;5;241;43m.\u001b[39;49m\u001b[43malias\u001b[49m(\u001b[38;5;124m\"\u001b[39m\u001b[38;5;124mmelvin\u001b[39m\u001b[38;5;124m\"\u001b[39m)])\n",
      "\u001b[0;31mAttributeError\u001b[0m: 'str' object has no attribute 'alias'"
     ]
    }
   ],
   "source": [
    "df.select([pl.col(\"name\"), pl.col(\"name\").phonepad.to_numbers().alias(\"melvin\")])"
   ]
  },
  {
   "cell_type": "code",
   "execution_count": null,
   "id": "2fbd0301-72fc-4c33-abe1-4421e751b450",
   "metadata": {},
   "outputs": [],
   "source": []
  }
 ],
 "metadata": {
  "kernelspec": {
   "display_name": "hod",
   "language": "python",
   "name": "hod"
  },
  "language_info": {
   "codemirror_mode": {
    "name": "ipython",
    "version": 3
   },
   "file_extension": ".py",
   "mimetype": "text/x-python",
   "name": "python",
   "nbconvert_exporter": "python",
   "pygments_lexer": "ipython3",
   "version": "3.12.0"
  }
 },
 "nbformat": 4,
 "nbformat_minor": 5
}
