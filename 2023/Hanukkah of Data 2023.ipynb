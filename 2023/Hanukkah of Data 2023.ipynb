{
 "cells": [
  {
   "cell_type": "code",
   "execution_count": 1,
   "id": "3efbcfb6-83cf-41a6-81ec-8e950eeacf7d",
   "metadata": {},
   "outputs": [],
   "source": [
    "import sqlite3\n",
    "\n",
    "import polars as pl\n",
    "import polars.selectors as cs"
   ]
  },
  {
   "cell_type": "markdown",
   "id": "02cf4cca-6435-4de1-9d26-d1313996b9a3",
   "metadata": {},
   "source": [
    "## Setup\n",
    "\n",
    "I've decided that for this year I want to commit to using [Polars](https://pola.rs/) in a Jupyter notebook for all the puzzles.\n",
    "So here I load the SQLite data into a Polars DataFrame that I'll try to reuse across all puzzles.\n",
    "\n",
    "I cheat a _little_ bit here by starting with a query that I incrementally worked toward [in 2022](https://dev.to/ajkerrigan/series/21177)."
   ]
  },
  {
   "cell_type": "code",
   "execution_count": 2,
   "id": "5f36c467-5bf2-439d-aa5a-31d753b58b95",
   "metadata": {},
   "outputs": [],
   "source": [
    "con = sqlite3.connect(\n",
    "    # Without PARSE_DECLTYPES, schema_overrides converting strings\n",
    "    # to pl.Datetime objects will fail. See also:\n",
    "    #\n",
    "    # https://github.com/pola-rs/polars/issues/11912\n",
    "    \"5784-speedrun/noahs.sqlite\", detect_types=sqlite3.PARSE_DECLTYPES\n",
    ")\n",
    "\n",
    "df = pl.read_database(\n",
    "    connection=con,\n",
    "    query=\"\"\"\n",
    "        select\n",
    "          c.*,\n",
    "          o.orderid,\n",
    "          o.ordered,\n",
    "          o.shipped,\n",
    "          o.total,\n",
    "          i.qty,\n",
    "          i.unit_price,\n",
    "          p.sku,\n",
    "          p.desc,\n",
    "          p.wholesale_cost\n",
    "        from\n",
    "          customers c\n",
    "          join orders o on c.customerid = o.customerid\n",
    "          join orders_items i on o.orderid = i.orderid\n",
    "          join products p on i.sku = p.sku\n",
    "    \"\"\",\n",
    "    schema_overrides={\n",
    "        \"ordered\": pl.Datetime,\n",
    "        \"shipped\": pl.Datetime,\n",
    "    },\n",
    ").with_columns(birthdate=pl.col(\"birthdate\").str.strptime(pl.Date))"
   ]
  },
  {
   "cell_type": "markdown",
   "id": "95d797dd-5c6f-43ec-b7c4-4322e4303a55",
   "metadata": {},
   "source": [
    "## Puzzle Solutions"
   ]
  },
  {
   "cell_type": "markdown",
   "id": "4603bafd-d008-4b81-a7e8-a49226dc4e0a",
   "metadata": {},
   "source": [
    "### Day 1\n",
    "\n",
    "**Useful Facts:**\n",
    "\n",
    "- Target customer is a private investigator\n",
    "- Translating that customer's last name to numbers using a phone pad as a key produces the customer's phone number"
   ]
  },
  {
   "cell_type": "markdown",
   "id": "ec5257d3-5b9d-4b48-8f8f-854ee9c01efa",
   "metadata": {},
   "source": [
    "#### Polars Helper\n",
    "\n",
    "It would be nice to have a convenient Polars-native way to translate a customer's name to its phone number equivalent.\n",
    "This seems like a good case for [extending the Polars expression namespace](https://pola-rs.github.io/polars/py-polars/html/reference/api.html#extending-the-api)."
   ]
  },
  {
   "cell_type": "code",
   "execution_count": 3,
   "id": "13d2bfe0-8c32-4cb4-974b-1cfea6355d12",
   "metadata": {},
   "outputs": [],
   "source": [
    "@pl.api.register_expr_namespace(\"phonepad\")\n",
    "class Phonepad:\n",
    "    def __init__(self, expr: pl.Expr):\n",
    "        self._expr = expr\n",
    "\n",
    "    def to_numbers(self):\n",
    "        return (\n",
    "            self._expr.str.to_lowercase()\n",
    "            .str.replace_all(r\"[^a-z]\", \"\")\n",
    "            .str.replace_all(r\"[abc]\", \"2\")\n",
    "            .str.replace_all(r\"[def]\", \"3\")\n",
    "            .str.replace_all(r\"[ghi]\", \"4\")\n",
    "            .str.replace_all(r\"[jkl]\", \"5\")\n",
    "            .str.replace_all(r\"[mno]\", \"6\")\n",
    "            .str.replace_all(r\"[pqrs]\", \"7\")\n",
    "            .str.replace_all(r\"[tuv]\", \"8\")\n",
    "            .str.replace_all(r\"[wxyz]\", \"9\")\n",
    "        )"
   ]
  },
  {
   "cell_type": "markdown",
   "id": "7a9ae3ea-920c-4da2-a883-1d999c483838",
   "metadata": {},
   "source": [
    "#### Solution\n",
    "\n",
    "With a convenience expression namespace/method, we can check to see if a customer's phonified name contains the digits of their phone number."
   ]
  },
  {
   "cell_type": "code",
   "execution_count": 4,
   "id": "2fbd0301-72fc-4c33-abe1-4421e751b450",
   "metadata": {},
   "outputs": [
    {
     "data": {
      "text/plain": [
       "'767-365-7269'"
      ]
     },
     "execution_count": 4,
     "metadata": {},
     "output_type": "execute_result"
    }
   ],
   "source": [
    "day1 = df.filter(\n",
    "    pl.col(\"name\")\n",
    "    .phonepad.to_numbers()\n",
    "    .str.contains(pl.col(\"phone\").str.replace_all(r\"[^\\d]+\", \"\"))\n",
    ")\n",
    "\n",
    "day1.select(\"phone\").unique().item()"
   ]
  },
  {
   "cell_type": "markdown",
   "id": "2da01ff1-1f06-4c41-80ed-a8f18218d216",
   "metadata": {},
   "source": [
    "#### Lazy Alternative\n",
    "\n",
    "It seems useful to practice using the Polars [LazyFrame API](https://pola-rs.github.io/polars/user-guide/lazy/using/). There's no\n",
    "`scan_database()` method that I can see, and since we're reusing a single DataFrame across multiple days it seems sensible\n",
    "to have the whole thing in memory anyway.\n",
    "\n",
    "_But_... we can call `.lazy()` on it and see what optimizations we get under the covers. In this case the time difference\n",
    "seems negligible, but it's interesting in any case. Note that the unoptimized [query plan](https://pola-rs.github.io/polars/user-guide/lazy/query-plan/)\n",
    "has two steps:\n",
    "\n",
    "1. Select all columns from every row\n",
    "2. Apply a filter\n",
    "\n",
    "Where the optimized plan merges those operations into a single step, filtering as part of the selection. Neat!\n",
    "\n",
    "_I still suspect there's a smarter way to do that janky multi-replacement though..._"
   ]
  },
  {
   "cell_type": "code",
   "execution_count": 5,
   "id": "4ac90d21-ae6e-4a70-a2b9-0b0c734d08a6",
   "metadata": {},
   "outputs": [
    {
     "name": "stdout",
     "output_type": "stream",
     "text": [
      "Unoptimized query plan & graph...\n",
      "FILTER col(\"name\").str.lowercase().str.replace([Utf8([^a-z]), Utf8()]).str.replace([Utf8([abc]), Utf8(2)]).str.replace([Utf8([def]), Utf8(3)]).str.replace([Utf8([ghi]), Utf8(4)]).str.replace([Utf8([jkl]), Utf8(5)]).str.replace([Utf8([mno]), Utf8(6)]).str.replace([Utf8([pqrs]), Utf8(7)]).str.replace([Utf8([tuv]), Utf8(8)]).str.replace([Utf8([wxyz]), Utf8(9)]).str.contains([col(\"phone\").str.replace([Utf8([^\\d]+), Utf8()])]) FROM\n",
      "DF [\"customerid\", \"name\", \"address\", \"citystatezip\"]\n",
      " PROJECT */18 COLUMNS\n",
      " SELECTION: \"None\"\n"
     ]
    },
    {
     "data": {
      "image/svg+xml": [
       "<svg xmlns=\"http://www.w3.org/2000/svg\" xmlns:xlink=\"http://www.w3.org/1999/xlink\" width=\"249pt\" height=\"133pt\" viewBox=\"0.00 0.00 249.00 133.00\">\n",
       "<g id=\"graph0\" class=\"graph\" transform=\"scale(1 1) rotate(0) translate(4 129)\">\n",
       "<title>polars_query</title>\n",
       "<polygon fill=\"white\" stroke=\"transparent\" points=\"-4,4 -4,-129 245,-129 245,4 -4,4\"/>\n",
       "<!-- FILTER BY col(&quot;name&quot;).str.lowercase... [(0, 0)] -->\n",
       "<g id=\"node1\" class=\"node\">\n",
       "<title>FILTER BY col(&quot;name&quot;).str.lowercase... [(0, 0)]</title>\n",
       "<polygon fill=\"none\" stroke=\"black\" points=\"241,-125 0,-125 0,-89 241,-89 241,-125\"/>\n",
       "<text text-anchor=\"middle\" x=\"120.5\" y=\"-103.3\" font-family=\"Times,serif\" font-size=\"14.00\">FILTER BY col(&quot;name&quot;).str.lowercase...</text>\n",
       "</g>\n",
       "<!-- TABLE\n",
       "π */18;\n",
       "σ &#45;; [(0, 1)] -->\n",
       "<g id=\"node2\" class=\"node\">\n",
       "<title>TABLE\n",
       "π */18;\n",
       "σ -; [(0, 1)]</title>\n",
       "<polygon fill=\"none\" stroke=\"black\" points=\"150.5,-53 90.5,-53 90.5,0 150.5,0 150.5,-53\"/>\n",
       "<text text-anchor=\"middle\" x=\"120.5\" y=\"-37.8\" font-family=\"Times,serif\" font-size=\"14.00\">TABLE</text>\n",
       "<text text-anchor=\"middle\" x=\"120.5\" y=\"-22.8\" font-family=\"Times,serif\" font-size=\"14.00\">π */18;</text>\n",
       "<text text-anchor=\"middle\" x=\"120.5\" y=\"-7.8\" font-family=\"Times,serif\" font-size=\"14.00\">σ -;</text>\n",
       "</g>\n",
       "<!-- FILTER BY col(&quot;name&quot;).str.lowercase... [(0, 0)]&#45;&#45;TABLE\n",
       "π */18;\n",
       "σ &#45;; [(0, 1)] -->\n",
       "<g id=\"edge1\" class=\"edge\">\n",
       "<title>FILTER BY col(&quot;name&quot;).str.lowercase... [(0, 0)]--TABLE\n",
       "π */18;\n",
       "σ -; [(0, 1)]</title>\n",
       "<path fill=\"none\" stroke=\"black\" d=\"M120.5,-88.97C120.5,-78.51 120.5,-64.9 120.5,-53.16\"/>\n",
       "</g>\n",
       "</g>\n",
       "</svg>"
      ],
      "text/plain": [
       "<IPython.core.display.SVG object>"
      ]
     },
     "metadata": {},
     "output_type": "display_data"
    },
    {
     "name": "stdout",
     "output_type": "stream",
     "text": [
      "\n",
      "Optimized query plan...\n",
      "DF [\"customerid\", \"name\", \"address\", \"citystatezip\"]\n",
      " PROJECT */18 COLUMNS\n",
      " SELECTION: \"col(\\\"name\\\").str.lowercase().str.replace([Utf8([^a-z]), Utf8()]).str.replace([Utf8([abc]), Utf8(2)]).str.replace([Utf8([def]), Utf8(3)]).str.replace([Utf8([ghi]), Utf8(4)]).str.replace([Utf8([jkl]), Utf8(5)]).str.replace([Utf8([mno]), Utf8(6)]).str.replace([Utf8([pqrs]), Utf8(7)]).str.replace([Utf8([tuv]), Utf8(8)]).str.replace([Utf8([wxyz]), Utf8(9)]).str.contains([col(\\\"phone\\\").str.replace([Utf8([^\\\\d]+), Utf8()])])\"\n"
     ]
    },
    {
     "data": {
      "image/svg+xml": [
       "<svg xmlns=\"http://www.w3.org/2000/svg\" xmlns:xlink=\"http://www.w3.org/1999/xlink\" width=\"197pt\" height=\"61pt\" viewBox=\"0.00 0.00 197.00 61.00\">\n",
       "<g id=\"graph0\" class=\"graph\" transform=\"scale(1 1) rotate(0) translate(4 57)\">\n",
       "<title>polars_query</title>\n",
       "<polygon fill=\"white\" stroke=\"transparent\" points=\"-4,4 -4,-57 193,-57 193,4 -4,4\"/>\n",
       "<!-- [TABLE\n",
       "π */18;\n",
       "σ col(&quot;name&quot;).str.lowercase...;] -->\n",
       "<g id=\"node1\" class=\"node\">\n",
       "<title>[TABLE\n",
       "π */18;\n",
       "σ col(&quot;name&quot;).str.lowercase...;]</title>\n",
       "<polygon fill=\"none\" stroke=\"black\" points=\"189,-53 0,-53 0,0 189,0 189,-53\"/>\n",
       "<text text-anchor=\"middle\" x=\"94.5\" y=\"-37.8\" font-family=\"Times,serif\" font-size=\"14.00\">[TABLE</text>\n",
       "<text text-anchor=\"middle\" x=\"94.5\" y=\"-22.8\" font-family=\"Times,serif\" font-size=\"14.00\">π */18;</text>\n",
       "<text text-anchor=\"middle\" x=\"94.5\" y=\"-7.8\" font-family=\"Times,serif\" font-size=\"14.00\">σ col(&quot;name&quot;).str.lowercase...;]</text>\n",
       "</g>\n",
       "</g>\n",
       "</svg>"
      ],
      "text/plain": [
       "<IPython.core.display.SVG object>"
      ]
     },
     "metadata": {},
     "output_type": "display_data"
    },
    {
     "data": {
      "text/plain": [
       "'767-365-7269'"
      ]
     },
     "execution_count": 5,
     "metadata": {},
     "output_type": "execute_result"
    }
   ],
   "source": [
    "day1_lazy = df.lazy().filter(\n",
    "    pl.col(\"name\")\n",
    "    .phonepad.to_numbers()\n",
    "    .str.contains(pl.col(\"phone\").str.replace_all(r\"[^\\d]+\", \"\"))\n",
    ")\n",
    "\n",
    "print(\"Unoptimized query plan & graph...\")\n",
    "print(\"\\n\".join(day1_lazy.explain(optimized=False).split(\";\")))\n",
    "day1_lazy.show_graph(optimized=False)\n",
    "\n",
    "print(\"\\nOptimized query plan...\")\n",
    "print(\"\\n\".join(day1_lazy.explain(optimized=True).split(\";\")))\n",
    "day1_lazy.show_graph(optimized=True)\n",
    "\n",
    "day1_lazy.collect().select(\"phone\").unique().item()"
   ]
  },
  {
   "cell_type": "markdown",
   "id": "92c17c85-f225-4f2a-966f-8a5ea71ab525",
   "metadata": {},
   "source": [
    "### Day 2\n",
    "\n",
    "**Useful Facts:**\n",
    "\n",
    "- Target customer had initials JP\n",
    "- Bought coffee and bagels in 2017\n",
    "\n",
    "This is doable by chaining together filters against a customer's name, order history and order date."
   ]
  },
  {
   "cell_type": "code",
   "execution_count": 6,
   "id": "8233cf37-68f4-4146-9581-da12ce405f45",
   "metadata": {},
   "outputs": [
    {
     "data": {
      "text/html": [
       "<div><style>\n",
       ".dataframe > thead > tr,\n",
       ".dataframe > tbody > tr {\n",
       "  text-align: right;\n",
       "  white-space: pre-wrap;\n",
       "}\n",
       "</style>\n",
       "<small>shape: (1, 1)</small><table border=\"1\" class=\"dataframe\"><thead><tr><th>phone</th></tr><tr><td>str</td></tr></thead><tbody><tr><td>&quot;838-351-0370&quot;</td></tr></tbody></table></div>"
      ],
      "text/plain": [
       "shape: (1, 1)\n",
       "┌──────────────┐\n",
       "│ phone        │\n",
       "│ ---          │\n",
       "│ str          │\n",
       "╞══════════════╡\n",
       "│ 838-351-0370 │\n",
       "└──────────────┘"
      ]
     },
     "execution_count": 6,
     "metadata": {},
     "output_type": "execute_result"
    }
   ],
   "source": [
    "day2 = (\n",
    "    df.filter(\n",
    "        (pl.col(\"name\").str.contains(r\"D.*?S\"))\n",
    "        & (pl.col(\"desc\").str.contains(r\"(?i)(coffee|bagel)\"))\n",
    "        & (pl.col(\"ordered\").dt.year() == 2017)\n",
    "    )\n",
    "    .group_by(\"phone\", \"citystatezip\")\n",
    "    .agg(pl.col(\"orderid\").count().alias(\"ordercount\"))\n",
    "    .top_k(1, by=\"ordercount\")\n",
    ")\n",
    "\n",
    "day2.select(\"phone\")"
   ]
  },
  {
   "cell_type": "markdown",
   "id": "065aa4c8-49ed-4291-9974-c9fa8e370ba3",
   "metadata": {},
   "source": [
    "### Day 3\n",
    "\n",
    "**Useful Facts:**\n",
    "\n",
    "- Target customer lives in last customer's neighborhood\n",
    "  - Maybe city, maybe zip code\n",
    "  - Try city/state/zip match first\n",
    "- Cancer\n",
    "  - June 21 - July 22\n",
    "  - Julian values 173 - 203\n",
    "- Year of the rabbit\n",
    "  - Birth year mod 12 = 7"
   ]
  },
  {
   "cell_type": "code",
   "execution_count": 7,
   "id": "c74dc056-037e-46cc-bd93-cdb494ae9e10",
   "metadata": {},
   "outputs": [
    {
     "data": {
      "text/html": [
       "<div><style>\n",
       ".dataframe > thead > tr,\n",
       ".dataframe > tbody > tr {\n",
       "  text-align: right;\n",
       "  white-space: pre-wrap;\n",
       "}\n",
       "</style>\n",
       "<small>shape: (1, 3)</small><table border=\"1\" class=\"dataframe\"><thead><tr><th>name</th><th>citystatezip</th><th>phone</th></tr><tr><td>str</td><td>str</td><td>str</td></tr></thead><tbody><tr><td>&quot;David Perez&quot;</td><td>&quot;Queens Village…</td><td>&quot;914-594-5535&quot;</td></tr></tbody></table></div>"
      ],
      "text/plain": [
       "shape: (1, 3)\n",
       "┌─────────────┬──────────────────────────┬──────────────┐\n",
       "│ name        ┆ citystatezip             ┆ phone        │\n",
       "│ ---         ┆ ---                      ┆ ---          │\n",
       "│ str         ┆ str                      ┆ str          │\n",
       "╞═════════════╪══════════════════════════╪══════════════╡\n",
       "│ David Perez ┆ Queens Village, NY 11427 ┆ 914-594-5535 │\n",
       "└─────────────┴──────────────────────────┴──────────────┘"
      ]
     },
     "execution_count": 7,
     "metadata": {},
     "output_type": "execute_result"
    }
   ],
   "source": [
    "neighborhood = day2.select(\"citystatezip\").unique().item()\n",
    "\n",
    "day3 = df.filter(\n",
    "    (pl.col(\"birthdate\").dt.ordinal_day().is_between(266, 296))\n",
    "    & (pl.col(\"birthdate\").dt.year() % 12 == 11)\n",
    "    & (pl.col(\"citystatezip\") == neighborhood)\n",
    ")\n",
    "\n",
    "day3.select([\"name\", \"citystatezip\", \"phone\"]).unique()"
   ]
  },
  {
   "cell_type": "markdown",
   "id": "428b2fac-7743-49d6-bb1a-bba230934c9f",
   "metadata": {},
   "source": [
    "### Day 4\n",
    "\n",
    "**Useful Facts:**\n",
    "\n",
    "- Target customer buys pastries early - before 5am\n",
    "  - Years ago\n",
    "- Is a woman\n",
    "- Came by bike - maybe assume close by, same city?"
   ]
  },
  {
   "cell_type": "code",
   "execution_count": 8,
   "id": "7a95e255-ad2f-4359-a8ee-93b958750a31",
   "metadata": {},
   "outputs": [
    {
     "data": {
      "text/html": [
       "<div><style>\n",
       ".dataframe > thead > tr,\n",
       ".dataframe > tbody > tr {\n",
       "  text-align: right;\n",
       "  white-space: pre-wrap;\n",
       "}\n",
       "</style>\n",
       "<small>shape: (5, 4)</small><table border=\"1\" class=\"dataframe\"><thead><tr><th>name</th><th>phone</th><th>citystatezip</th><th>ordercount</th></tr><tr><td>str</td><td>str</td><td>str</td><td>u32</td></tr></thead><tbody><tr><td>&quot;Brittany Harmo…</td><td>&quot;716-789-4433&quot;</td><td>&quot;Brooklyn, NY 1…</td><td>13</td></tr><tr><td>&quot;Lindsey Kline&quot;</td><td>&quot;315-866-8885&quot;</td><td>&quot;Manhattan, NY …</td><td>2</td></tr><tr><td>&quot;Timothy Willia…</td><td>&quot;315-433-5071&quot;</td><td>&quot;Manhattan, NY …</td><td>1</td></tr><tr><td>&quot;Theresa Watkin…</td><td>&quot;315-254-5970&quot;</td><td>&quot;Bronx, NY 1045…</td><td>1</td></tr><tr><td>&quot;Jennifer Smith…</td><td>&quot;914-819-6323&quot;</td><td>&quot;Manhattan, NY …</td><td>1</td></tr></tbody></table></div>"
      ],
      "text/plain": [
       "shape: (5, 4)\n",
       "┌────────────────────┬──────────────┬─────────────────────┬────────────┐\n",
       "│ name               ┆ phone        ┆ citystatezip        ┆ ordercount │\n",
       "│ ---                ┆ ---          ┆ ---                 ┆ ---        │\n",
       "│ str                ┆ str          ┆ str                 ┆ u32        │\n",
       "╞════════════════════╪══════════════╪═════════════════════╪════════════╡\n",
       "│ Brittany Harmon    ┆ 716-789-4433 ┆ Brooklyn, NY 11209  ┆ 13         │\n",
       "│ Lindsey Kline      ┆ 315-866-8885 ┆ Manhattan, NY 10044 ┆ 2          │\n",
       "│ Timothy Williamson ┆ 315-433-5071 ┆ Manhattan, NY 10030 ┆ 1          │\n",
       "│ Theresa Watkins    ┆ 315-254-5970 ┆ Bronx, NY 10451     ┆ 1          │\n",
       "│ Jennifer Smith     ┆ 914-819-6323 ┆ Manhattan, NY 10019 ┆ 1          │\n",
       "└────────────────────┴──────────────┴─────────────────────┴────────────┘"
      ]
     },
     "execution_count": 8,
     "metadata": {},
     "output_type": "execute_result"
    }
   ],
   "source": [
    "day4 = (\n",
    "    df.filter(\n",
    "        (pl.col(\"sku\").str.starts_with(\"BKY\")) & (pl.col(\"ordered\").dt.hour() == 4)\n",
    "    )\n",
    "    .group_by([\"name\", \"phone\", \"citystatezip\"])\n",
    "    .agg(pl.col(\"orderid\").count().alias(\"ordercount\"))\n",
    "    .top_k(5, by=\"ordercount\")\n",
    ")\n",
    "\n",
    "day4.select([\"name\", \"phone\", \"citystatezip\", \"ordercount\"])"
   ]
  },
  {
   "cell_type": "markdown",
   "id": "c13023ae-8b9f-427c-88da-0e8b0bccb01f",
   "metadata": {},
   "source": [
    "#### Lazy Alternative\n",
    "\n",
    "There's a bit more going on here than on day 1, so I'm curious what a LazyFrame's query plan optimizations would look like here.\n",
    "\n",
    "Again it's worth pointing out that lazy evaluation doesn't seem particularly useful for these challenges, given the size and reusability\n",
    "of the dataset. It's still neat to see the sorts of plan optimizations Polars does under the covers though."
   ]
  },
  {
   "cell_type": "code",
   "execution_count": 9,
   "id": "3d3b9fce-5142-417e-ab06-c965f1228b65",
   "metadata": {},
   "outputs": [
    {
     "name": "stdout",
     "output_type": "stream",
     "text": [
      "Unoptimized query plan & graph...\n",
      "SLICE[offset: 0, len: 5]\n",
      "  SORT BY [col(\"ordercount\")]\n",
      "    AGGREGATE\n",
      "    \t[col(\"orderid\").count().alias(\"ordercount\")] BY [col(\"name\"), col(\"phone\")] FROM\n",
      "      FILTER [(col(\"sku\").str.starts_with([Utf8(BKY)])) & ([(col(\"ordered\").dt.hour()) == (4)])] FROM\n",
      "\n",
      "      DF [\"customerid\", \"name\", \"address\", \"citystatezip\"]\n",
      " PROJECT */18 COLUMNS\n",
      " SELECTION: \"None\"\n"
     ]
    },
    {
     "data": {
      "image/svg+xml": [
       "<svg xmlns=\"http://www.w3.org/2000/svg\" xmlns:xlink=\"http://www.w3.org/1999/xlink\" width=\"294pt\" height=\"366pt\" viewBox=\"0.00 0.00 294.00 366.00\">\n",
       "<g id=\"graph0\" class=\"graph\" transform=\"scale(1 1) rotate(0) translate(4 362)\">\n",
       "<title>polars_query</title>\n",
       "<polygon fill=\"white\" stroke=\"transparent\" points=\"-4,4 -4,-362 290,-362 290,4 -4,4\"/>\n",
       "<!-- SLICE offset: 0; len: 5 [(0, 0)] -->\n",
       "<g id=\"node1\" class=\"node\">\n",
       "<title>SLICE offset: 0; len: 5 [(0, 0)]</title>\n",
       "<polygon fill=\"none\" stroke=\"black\" points=\"213.5,-358 72.5,-358 72.5,-322 213.5,-322 213.5,-358\"/>\n",
       "<text text-anchor=\"middle\" x=\"143\" y=\"-336.3\" font-family=\"Times,serif\" font-size=\"14.00\">SLICE offset: 0; len: 5</text>\n",
       "</g>\n",
       "<!-- SORT BY [col(&quot;ordercount&quot;)] [(0, 1)] -->\n",
       "<g id=\"node2\" class=\"node\">\n",
       "<title>SORT BY [col(&quot;ordercount&quot;)] [(0, 1)]</title>\n",
       "<polygon fill=\"none\" stroke=\"black\" points=\"233.5,-286 52.5,-286 52.5,-250 233.5,-250 233.5,-286\"/>\n",
       "<text text-anchor=\"middle\" x=\"143\" y=\"-264.3\" font-family=\"Times,serif\" font-size=\"14.00\">SORT BY [col(&quot;ordercount&quot;)]</text>\n",
       "</g>\n",
       "<!-- SLICE offset: 0; len: 5 [(0, 0)]&#45;&#45;SORT BY [col(&quot;ordercount&quot;)] [(0, 1)] -->\n",
       "<g id=\"edge1\" class=\"edge\">\n",
       "<title>SLICE offset: 0; len: 5 [(0, 0)]--SORT BY [col(&quot;ordercount&quot;)] [(0, 1)]</title>\n",
       "<path fill=\"none\" stroke=\"black\" d=\"M143,-321.7C143,-310.85 143,-296.92 143,-286.1\"/>\n",
       "</g>\n",
       "<!-- AGG [col(&quot;orderid&quot;).count().alias(&quot;ordercount&quot;)]\n",
       "BY\n",
       "[col(&quot;name&quot;),col(&quot;phone&quot;)] [(0, 2)] [(0, 2)] -->\n",
       "<g id=\"node3\" class=\"node\">\n",
       "<title>AGG [col(&quot;orderid&quot;).count().alias(&quot;ordercount&quot;)]\n",
       "BY\n",
       "[col(&quot;name&quot;),col(&quot;phone&quot;)] [(0, 2)] [(0, 2)]</title>\n",
       "<polygon fill=\"none\" stroke=\"black\" points=\"286,-214 0,-214 0,-161 286,-161 286,-214\"/>\n",
       "<text text-anchor=\"middle\" x=\"143\" y=\"-198.8\" font-family=\"Times,serif\" font-size=\"14.00\">AGG [col(&quot;orderid&quot;).count().alias(&quot;ordercount&quot;)]</text>\n",
       "<text text-anchor=\"middle\" x=\"143\" y=\"-183.8\" font-family=\"Times,serif\" font-size=\"14.00\">BY</text>\n",
       "<text text-anchor=\"middle\" x=\"143\" y=\"-168.8\" font-family=\"Times,serif\" font-size=\"14.00\">[col(&quot;name&quot;),col(&quot;phone&quot;)] [(0, 2)]</text>\n",
       "</g>\n",
       "<!-- SORT BY [col(&quot;ordercount&quot;)] [(0, 1)]&#45;&#45;AGG [col(&quot;orderid&quot;).count().alias(&quot;ordercount&quot;)]\n",
       "BY\n",
       "[col(&quot;name&quot;),col(&quot;phone&quot;)] [(0, 2)] [(0, 2)] -->\n",
       "<g id=\"edge2\" class=\"edge\">\n",
       "<title>SORT BY [col(&quot;ordercount&quot;)] [(0, 1)]--AGG [col(&quot;orderid&quot;).count().alias(&quot;ordercount&quot;)]\n",
       "BY\n",
       "[col(&quot;name&quot;),col(&quot;phone&quot;)] [(0, 2)] [(0, 2)]</title>\n",
       "<path fill=\"none\" stroke=\"black\" d=\"M143,-249.97C143,-239.51 143,-225.9 143,-214.16\"/>\n",
       "</g>\n",
       "<!-- FILTER BY (col(&quot;sku&quot;).str.starts_wi... [(0, 3)] -->\n",
       "<g id=\"node4\" class=\"node\">\n",
       "<title>FILTER BY (col(&quot;sku&quot;).str.starts_wi... [(0, 3)]</title>\n",
       "<polygon fill=\"none\" stroke=\"black\" points=\"257.5,-125 28.5,-125 28.5,-89 257.5,-89 257.5,-125\"/>\n",
       "<text text-anchor=\"middle\" x=\"143\" y=\"-103.3\" font-family=\"Times,serif\" font-size=\"14.00\">FILTER BY (col(&quot;sku&quot;).str.starts_wi...</text>\n",
       "</g>\n",
       "<!-- AGG [col(&quot;orderid&quot;).count().alias(&quot;ordercount&quot;)]\n",
       "BY\n",
       "[col(&quot;name&quot;),col(&quot;phone&quot;)] [(0, 2)] [(0, 2)]&#45;&#45;FILTER BY (col(&quot;sku&quot;).str.starts_wi... [(0, 3)] -->\n",
       "<g id=\"edge3\" class=\"edge\">\n",
       "<title>AGG [col(&quot;orderid&quot;).count().alias(&quot;ordercount&quot;)]\n",
       "BY\n",
       "[col(&quot;name&quot;),col(&quot;phone&quot;)] [(0, 2)] [(0, 2)]--FILTER BY (col(&quot;sku&quot;).str.starts_wi... [(0, 3)]</title>\n",
       "<path fill=\"none\" stroke=\"black\" d=\"M143,-160.8C143,-149.17 143,-135.74 143,-125.33\"/>\n",
       "</g>\n",
       "<!-- TABLE\n",
       "π */18;\n",
       "σ &#45;; [(0, 4)] -->\n",
       "<g id=\"node5\" class=\"node\">\n",
       "<title>TABLE\n",
       "π */18;\n",
       "σ -; [(0, 4)]</title>\n",
       "<polygon fill=\"none\" stroke=\"black\" points=\"173,-53 113,-53 113,0 173,0 173,-53\"/>\n",
       "<text text-anchor=\"middle\" x=\"143\" y=\"-37.8\" font-family=\"Times,serif\" font-size=\"14.00\">TABLE</text>\n",
       "<text text-anchor=\"middle\" x=\"143\" y=\"-22.8\" font-family=\"Times,serif\" font-size=\"14.00\">π */18;</text>\n",
       "<text text-anchor=\"middle\" x=\"143\" y=\"-7.8\" font-family=\"Times,serif\" font-size=\"14.00\">σ -;</text>\n",
       "</g>\n",
       "<!-- FILTER BY (col(&quot;sku&quot;).str.starts_wi... [(0, 3)]&#45;&#45;TABLE\n",
       "π */18;\n",
       "σ &#45;; [(0, 4)] -->\n",
       "<g id=\"edge4\" class=\"edge\">\n",
       "<title>FILTER BY (col(&quot;sku&quot;).str.starts_wi... [(0, 3)]--TABLE\n",
       "π */18;\n",
       "σ -; [(0, 4)]</title>\n",
       "<path fill=\"none\" stroke=\"black\" d=\"M143,-88.97C143,-78.51 143,-64.9 143,-53.16\"/>\n",
       "</g>\n",
       "</g>\n",
       "</svg>"
      ],
      "text/plain": [
       "<IPython.core.display.SVG object>"
      ]
     },
     "metadata": {},
     "output_type": "display_data"
    },
    {
     "name": "stdout",
     "output_type": "stream",
     "text": [
      "Optimized query plan & graph...\n",
      "SORT BY [col(\"ordercount\")]\n",
      "  AGGREGATE\n",
      "  \t[col(\"orderid\").count().alias(\"ordercount\")] BY [col(\"name\"), col(\"phone\")] FROM\n",
      "    DF [\"customerid\", \"name\", \"address\", \"citystatezip\"]\n",
      " PROJECT 5/18 COLUMNS\n",
      " SELECTION: \"[(col(\\\"sku\\\").str.starts_with([Utf8(BKY)])) & ([(col(\\\"ordered\\\").dt.hour()) == (4)])]\"\n"
     ]
    },
    {
     "data": {
      "image/svg+xml": [
       "<svg xmlns=\"http://www.w3.org/2000/svg\" xmlns:xlink=\"http://www.w3.org/1999/xlink\" width=\"294pt\" height=\"222pt\" viewBox=\"0.00 0.00 294.00 222.00\">\n",
       "<g id=\"graph0\" class=\"graph\" transform=\"scale(1 1) rotate(0) translate(4 218)\">\n",
       "<title>polars_query</title>\n",
       "<polygon fill=\"white\" stroke=\"transparent\" points=\"-4,4 -4,-218 290,-218 290,4 -4,4\"/>\n",
       "<!-- SORT BY [col(&quot;ordercount&quot;)] [(0, 0)] -->\n",
       "<g id=\"node1\" class=\"node\">\n",
       "<title>SORT BY [col(&quot;ordercount&quot;)] [(0, 0)]</title>\n",
       "<polygon fill=\"none\" stroke=\"black\" points=\"233.5,-214 52.5,-214 52.5,-178 233.5,-178 233.5,-214\"/>\n",
       "<text text-anchor=\"middle\" x=\"143\" y=\"-192.3\" font-family=\"Times,serif\" font-size=\"14.00\">SORT BY [col(&quot;ordercount&quot;)]</text>\n",
       "</g>\n",
       "<!-- AGG [col(&quot;orderid&quot;).count().alias(&quot;ordercount&quot;)]\n",
       "BY\n",
       "[col(&quot;name&quot;),col(&quot;phone&quot;)] [(0, 1)] [(0, 1)] -->\n",
       "<g id=\"node2\" class=\"node\">\n",
       "<title>AGG [col(&quot;orderid&quot;).count().alias(&quot;ordercount&quot;)]\n",
       "BY\n",
       "[col(&quot;name&quot;),col(&quot;phone&quot;)] [(0, 1)] [(0, 1)]</title>\n",
       "<polygon fill=\"none\" stroke=\"black\" points=\"286,-142 0,-142 0,-89 286,-89 286,-142\"/>\n",
       "<text text-anchor=\"middle\" x=\"143\" y=\"-126.8\" font-family=\"Times,serif\" font-size=\"14.00\">AGG [col(&quot;orderid&quot;).count().alias(&quot;ordercount&quot;)]</text>\n",
       "<text text-anchor=\"middle\" x=\"143\" y=\"-111.8\" font-family=\"Times,serif\" font-size=\"14.00\">BY</text>\n",
       "<text text-anchor=\"middle\" x=\"143\" y=\"-96.8\" font-family=\"Times,serif\" font-size=\"14.00\">[col(&quot;name&quot;),col(&quot;phone&quot;)] [(0, 1)]</text>\n",
       "</g>\n",
       "<!-- SORT BY [col(&quot;ordercount&quot;)] [(0, 0)]&#45;&#45;AGG [col(&quot;orderid&quot;).count().alias(&quot;ordercount&quot;)]\n",
       "BY\n",
       "[col(&quot;name&quot;),col(&quot;phone&quot;)] [(0, 1)] [(0, 1)] -->\n",
       "<g id=\"edge1\" class=\"edge\">\n",
       "<title>SORT BY [col(&quot;ordercount&quot;)] [(0, 0)]--AGG [col(&quot;orderid&quot;).count().alias(&quot;ordercount&quot;)]\n",
       "BY\n",
       "[col(&quot;name&quot;),col(&quot;phone&quot;)] [(0, 1)] [(0, 1)]</title>\n",
       "<path fill=\"none\" stroke=\"black\" d=\"M143,-177.97C143,-167.51 143,-153.9 143,-142.16\"/>\n",
       "</g>\n",
       "<!-- TABLE\n",
       "π 5/18;\n",
       "σ (col(&quot;sku&quot;).str.starts_wi...; [(0, 2)] -->\n",
       "<g id=\"node3\" class=\"node\">\n",
       "<title>TABLE\n",
       "π 5/18;\n",
       "σ (col(&quot;sku&quot;).str.starts_wi...; [(0, 2)]</title>\n",
       "<polygon fill=\"none\" stroke=\"black\" points=\"229.5,-53 56.5,-53 56.5,0 229.5,0 229.5,-53\"/>\n",
       "<text text-anchor=\"middle\" x=\"143\" y=\"-37.8\" font-family=\"Times,serif\" font-size=\"14.00\">TABLE</text>\n",
       "<text text-anchor=\"middle\" x=\"143\" y=\"-22.8\" font-family=\"Times,serif\" font-size=\"14.00\">π 5/18;</text>\n",
       "<text text-anchor=\"middle\" x=\"143\" y=\"-7.8\" font-family=\"Times,serif\" font-size=\"14.00\">σ (col(&quot;sku&quot;).str.starts_wi...;</text>\n",
       "</g>\n",
       "<!-- AGG [col(&quot;orderid&quot;).count().alias(&quot;ordercount&quot;)]\n",
       "BY\n",
       "[col(&quot;name&quot;),col(&quot;phone&quot;)] [(0, 1)] [(0, 1)]&#45;&#45;TABLE\n",
       "π 5/18;\n",
       "σ (col(&quot;sku&quot;).str.starts_wi...; [(0, 2)] -->\n",
       "<g id=\"edge2\" class=\"edge\">\n",
       "<title>AGG [col(&quot;orderid&quot;).count().alias(&quot;ordercount&quot;)]\n",
       "BY\n",
       "[col(&quot;name&quot;),col(&quot;phone&quot;)] [(0, 1)] [(0, 1)]--TABLE\n",
       "π 5/18;\n",
       "σ (col(&quot;sku&quot;).str.starts_wi...; [(0, 2)]</title>\n",
       "<path fill=\"none\" stroke=\"black\" d=\"M143,-88.87C143,-77.64 143,-64.49 143,-53.25\"/>\n",
       "</g>\n",
       "</g>\n",
       "</svg>"
      ],
      "text/plain": [
       "<IPython.core.display.SVG object>"
      ]
     },
     "metadata": {},
     "output_type": "display_data"
    },
    {
     "data": {
      "text/html": [
       "<div><style>\n",
       ".dataframe > thead > tr,\n",
       ".dataframe > tbody > tr {\n",
       "  text-align: right;\n",
       "  white-space: pre-wrap;\n",
       "}\n",
       "</style>\n",
       "<small>shape: (5, 3)</small><table border=\"1\" class=\"dataframe\"><thead><tr><th>name</th><th>phone</th><th>ordercount</th></tr><tr><td>str</td><td>str</td><td>u32</td></tr></thead><tbody><tr><td>&quot;Brittany Harmo…</td><td>&quot;716-789-4433&quot;</td><td>13</td></tr><tr><td>&quot;Lindsey Kline&quot;</td><td>&quot;315-866-8885&quot;</td><td>2</td></tr><tr><td>&quot;Christopher Wh…</td><td>&quot;516-531-0462&quot;</td><td>1</td></tr><tr><td>&quot;Chelsea Park&quot;</td><td>&quot;516-905-4779&quot;</td><td>1</td></tr><tr><td>&quot;Patricia Hende…</td><td>&quot;716-601-7625&quot;</td><td>1</td></tr></tbody></table></div>"
      ],
      "text/plain": [
       "shape: (5, 3)\n",
       "┌──────────────────────┬──────────────┬────────────┐\n",
       "│ name                 ┆ phone        ┆ ordercount │\n",
       "│ ---                  ┆ ---          ┆ ---        │\n",
       "│ str                  ┆ str          ┆ u32        │\n",
       "╞══════════════════════╪══════════════╪════════════╡\n",
       "│ Brittany Harmon      ┆ 716-789-4433 ┆ 13         │\n",
       "│ Lindsey Kline        ┆ 315-866-8885 ┆ 2          │\n",
       "│ Christopher Whitaker ┆ 516-531-0462 ┆ 1          │\n",
       "│ Chelsea Park         ┆ 516-905-4779 ┆ 1          │\n",
       "│ Patricia Henderson   ┆ 716-601-7625 ┆ 1          │\n",
       "└──────────────────────┴──────────────┴────────────┘"
      ]
     },
     "execution_count": 9,
     "metadata": {},
     "output_type": "execute_result"
    }
   ],
   "source": [
    "day4_lazy = (\n",
    "    df.lazy()\n",
    "    .filter((pl.col(\"sku\").str.starts_with(\"BKY\")) & (pl.col(\"ordered\").dt.hour() == 4))\n",
    "    .group_by([\"name\", \"phone\"])\n",
    "    .agg(pl.col(\"orderid\").count().alias(\"ordercount\"))\n",
    "    .top_k(5, by=\"ordercount\")\n",
    ")\n",
    "\n",
    "print(\"Unoptimized query plan & graph...\")\n",
    "print(\"\\n\".join(day4_lazy.explain(optimized=False).split(\";\")))\n",
    "day4_lazy.show_graph(optimized=False)\n",
    "\n",
    "print(\"Optimized query plan & graph...\")\n",
    "print(\"\\n\".join(day4_lazy.explain(optimized=True).split(\";\")))\n",
    "day4_lazy.show_graph(optimized=True)\n",
    "\n",
    "day4_lazy.collect().select([\"name\", \"phone\", \"ordercount\"])"
   ]
  },
  {
   "cell_type": "markdown",
   "id": "7ffb8407-78ed-4603-95d0-d4bb9a122426",
   "metadata": {},
   "source": [
    "### Day 5\n",
    "\n",
    "- Target customer is from Staten Island\n",
    "- Has lots of (old) cats"
   ]
  },
  {
   "cell_type": "code",
   "execution_count": 10,
   "id": "83bbbae9-f9e1-43b5-8fd6-efa06a6f61ea",
   "metadata": {},
   "outputs": [
    {
     "data": {
      "text/html": [
       "<div><style>\n",
       ".dataframe > thead > tr,\n",
       ".dataframe > tbody > tr {\n",
       "  text-align: right;\n",
       "  white-space: pre-wrap;\n",
       "}\n",
       "</style>\n",
       "<small>shape: (5, 3)</small><table border=\"1\" class=\"dataframe\"><thead><tr><th>name</th><th>phone</th><th>ordercount</th></tr><tr><td>str</td><td>str</td><td>u32</td></tr></thead><tbody><tr><td>&quot;Theresa Carter…</td><td>&quot;347-835-2358&quot;</td><td>23</td></tr><tr><td>&quot;Christopher Ra…</td><td>&quot;315-263-9413&quot;</td><td>21</td></tr><tr><td>&quot;Justin Hall II…</td><td>&quot;585-373-3185&quot;</td><td>17</td></tr><tr><td>&quot;Michelle Sanch…</td><td>&quot;315-438-8193&quot;</td><td>15</td></tr><tr><td>&quot;Abigail Hunt&quot;</td><td>&quot;516-308-8960&quot;</td><td>15</td></tr></tbody></table></div>"
      ],
      "text/plain": [
       "shape: (5, 3)\n",
       "┌─────────────────────┬──────────────┬────────────┐\n",
       "│ name                ┆ phone        ┆ ordercount │\n",
       "│ ---                 ┆ ---          ┆ ---        │\n",
       "│ str                 ┆ str          ┆ u32        │\n",
       "╞═════════════════════╪══════════════╪════════════╡\n",
       "│ Theresa Carter      ┆ 347-835-2358 ┆ 23         │\n",
       "│ Christopher Ramirez ┆ 315-263-9413 ┆ 21         │\n",
       "│ Justin Hall II      ┆ 585-373-3185 ┆ 17         │\n",
       "│ Michelle Sanchez    ┆ 315-438-8193 ┆ 15         │\n",
       "│ Abigail Hunt        ┆ 516-308-8960 ┆ 15         │\n",
       "└─────────────────────┴──────────────┴────────────┘"
      ]
     },
     "execution_count": 10,
     "metadata": {},
     "output_type": "execute_result"
    }
   ],
   "source": [
    "day5 = (\n",
    "    df.filter(\n",
    "        # (pl.col(\"citystatezip\").str.starts_with(\"Brooklyn\"))\n",
    "        # &\n",
    "        (pl.col(\"desc\").str.contains(r\"(?i)senior.*cat\"))\n",
    "    )\n",
    "    .group_by([\"name\", \"phone\"])\n",
    "    .agg(pl.col(\"orderid\").count().alias(\"ordercount\"))\n",
    ")\n",
    "\n",
    "day5.top_k(5, by=\"ordercount\")"
   ]
  },
  {
   "cell_type": "markdown",
   "id": "0f73fdd2-c344-4ce2-9c58-95fbcf1fb2e2",
   "metadata": {},
   "source": [
    "### Day 6\n",
    "\n",
    "- Target customer is a bargain hunter\n",
    "- Noah's loses money on this customer's purchases"
   ]
  },
  {
   "cell_type": "code",
   "execution_count": 11,
   "id": "b182f9ba-e2be-44c8-a815-3344faad7c84",
   "metadata": {},
   "outputs": [
    {
     "data": {
      "text/html": [
       "<div><style>\n",
       ".dataframe > thead > tr,\n",
       ".dataframe > tbody > tr {\n",
       "  text-align: right;\n",
       "  white-space: pre-wrap;\n",
       "}\n",
       "</style>\n",
       "<small>shape: (5, 4)</small><table border=\"1\" class=\"dataframe\"><thead><tr><th>customerid</th><th>name</th><th>phone</th><th>profit</th></tr><tr><td>i64</td><td>str</td><td>str</td><td>f64</td></tr></thead><tbody><tr><td>8884</td><td>&quot;Deborah Green&quot;</td><td>&quot;838-295-7143&quot;</td><td>-1646.6</td></tr><tr><td>9463</td><td>&quot;Michael Butler…</td><td>&quot;516-766-0320&quot;</td><td>-0.97</td></tr><tr><td>10044</td><td>&quot;Eric Duncan&quot;</td><td>&quot;585-359-2997&quot;</td><td>-0.06</td></tr><tr><td>6189</td><td>&quot;Linda Young&quot;</td><td>&quot;601-609-0786&quot;</td><td>-0.06</td></tr><tr><td>3511</td><td>&quot;Carmen Miller&quot;</td><td>&quot;838-386-7383&quot;</td><td>-0.05</td></tr></tbody></table></div>"
      ],
      "text/plain": [
       "shape: (5, 4)\n",
       "┌────────────┬────────────────┬──────────────┬─────────┐\n",
       "│ customerid ┆ name           ┆ phone        ┆ profit  │\n",
       "│ ---        ┆ ---            ┆ ---          ┆ ---     │\n",
       "│ i64        ┆ str            ┆ str          ┆ f64     │\n",
       "╞════════════╪════════════════╪══════════════╪═════════╡\n",
       "│ 8884       ┆ Deborah Green  ┆ 838-295-7143 ┆ -1646.6 │\n",
       "│ 9463       ┆ Michael Butler ┆ 516-766-0320 ┆ -0.97   │\n",
       "│ 10044      ┆ Eric Duncan    ┆ 585-359-2997 ┆ -0.06   │\n",
       "│ 6189       ┆ Linda Young    ┆ 601-609-0786 ┆ -0.06   │\n",
       "│ 3511       ┆ Carmen Miller  ┆ 838-386-7383 ┆ -0.05   │\n",
       "└────────────┴────────────────┴──────────────┴─────────┘"
      ]
     },
     "execution_count": 11,
     "metadata": {},
     "output_type": "execute_result"
    }
   ],
   "source": [
    "day6 = (\n",
    "    df.with_columns(\n",
    "        profit=pl.col(\"qty\") * (pl.col(\"unit_price\") - pl.col(\"wholesale_cost\"))\n",
    "    )\n",
    "    .group_by([\"customerid\", \"name\", \"phone\"])\n",
    "    .agg(pl.col(\"profit\").sum())\n",
    ")\n",
    "\n",
    "day6.bottom_k(5, by=\"profit\")"
   ]
  },
  {
   "cell_type": "markdown",
   "id": "6a8a47f7-7a75-4bdc-9a70-3917a91a1e03",
   "metadata": {},
   "source": [
    "### Day 7\n",
    "\n",
    "- Target customer bought an item on the same day as the day 6 customer\n",
    "- Probably close to the same time, differing only by color\n",
    "  - Just slightly before the day 6 customer\n",
    " \n",
    "**Note:** There are a few commented out sections in here, showing extra bits of logic\n",
    "that ended up being unnecessary. Maybe they'll be necessary with a different data set..."
   ]
  },
  {
   "cell_type": "markdown",
   "id": "ce5091c5-6631-4187-88f1-beebfc6ed5c2",
   "metadata": {},
   "source": [
    "#### Find orders from the day 6 customer\n",
    "\n",
    "We'll start by taking a subset of columns from the main DataFrame, and adding\n",
    "a couple transformed fields that will help narrow down the potential overlap between today's\n",
    "target customer and the one from day 6.\n",
    "\n",
    "Then we can create a separate DataFrame holding all orders related to the day 6 customer."
   ]
  },
  {
   "cell_type": "code",
   "execution_count": 12,
   "id": "3d81e4b9-6b83-4ca9-90b6-76dde628d40c",
   "metadata": {},
   "outputs": [],
   "source": [
    "day7 = df.select(\n",
    "    [\n",
    "        \"customerid\",\n",
    "        \"name\",\n",
    "        \"phone\",\n",
    "        \"sku\",\n",
    "        \"ordered\",\n",
    "        pl.col(\"desc\").str.to_lowercase().str.replace_all(r\"[^a-z ]\", \"\"),\n",
    "    ]\n",
    ").with_columns(\n",
    "    sku_prefix=pl.col(\"sku\").str.extract(r\"([A-Z]+)\"),\n",
    "    ordered_date=pl.col(\"ordered\").dt.date(),\n",
    ")\n",
    "\n",
    "day6_customer_orders = day7.filter(\n",
    "    pl.col(\"customerid\") == day6.bottom_k(1, by=\"profit\").select(\"customerid\").item()\n",
    ")"
   ]
  },
  {
   "cell_type": "markdown",
   "id": "cd355e97-98bf-4a48-a27b-19e1d9b47e48",
   "metadata": {},
   "source": [
    "#### Get a slice of potential similar orders\n",
    "\n",
    "We can build a DataFrame where...\n",
    "\n",
    "- The SKU prefix of another customer's order matches one of the day6 customer's orders\n",
    "- The two orders were from the same date\n",
    "\n",
    "And we'll add a few helper columns...\n",
    "\n",
    "- A list of words that appear in one order description but not the other\n",
    "- A word count of the difference between the two order descriptions\n",
    "- The time gap between the two orders\n",
    "\n",
    "Then we'll use the helper columns to whittle down the possibilities further...\n",
    "\n",
    "- Only show rows if there was a 2 word symmetric difference between the orders\n",
    "\n",
    "_Trimmed noise: An earlier attempt fetched an external color list and focused on word differences that mapped to color names. That proved unnecessary._"
   ]
  },
  {
   "cell_type": "code",
   "execution_count": 13,
   "id": "4faa2894-8b74-43b2-b38c-0b4cf0fe8acf",
   "metadata": {},
   "outputs": [],
   "source": [
    "day7 = (\n",
    "    day7.join(\n",
    "        day6_customer_orders, on=[\"sku_prefix\", \"ordered_date\"], suffix=\"_day6_customer\"\n",
    "    )\n",
    "    .with_columns(\n",
    "        desc_delta=pl.col(\"desc\")\n",
    "        .str.split(by=\" \")\n",
    "        .list.set_symmetric_difference(pl.col(\"desc_day6_customer\").str.split(by=\" \")),\n",
    "        order_gap=(\n",
    "            pl.col(\"ordered\").dt.datetime()\n",
    "            - pl.col(\"ordered_day6_customer\").dt.datetime()\n",
    "        ),\n",
    "    )\n",
    "    .with_columns(\n",
    "        desc_delta_len=pl.col(\"desc_delta\").list.len(),\n",
    "    )\n",
    "    .filter(pl.col(\"desc_delta_len\") == 2)\n",
    "    .explode(pl.col(\"desc_delta\"))\n",
    ")"
   ]
  },
  {
   "cell_type": "markdown",
   "id": "807eeddd-bd1b-461c-a471-600701b8e079",
   "metadata": {},
   "source": [
    "#### The target floats to the top\n",
    "\n",
    "Since we know the day6 customer bought a similar item just before today's customer, highlight the last order that came before day6 customer's order"
   ]
  },
  {
   "cell_type": "code",
   "execution_count": 14,
   "id": "071ab3c0-2b7e-4b34-9d59-8eec26e4867c",
   "metadata": {},
   "outputs": [
    {
     "name": "stdout",
     "output_type": "stream",
     "text": [
      "shape: (5, 8)\n",
      "┌────────────┬────────────┬────────────┬───────────┬───────────┬───────────┬───────────┬───────────┐\n",
      "│ name       ┆ phone      ┆ desc       ┆ desc_day6 ┆ desc_delt ┆ ordered   ┆ ordered_d ┆ order_gap │\n",
      "│ ---        ┆ ---        ┆ ---        ┆ _customer ┆ a         ┆ ---       ┆ ay6_custo ┆ ---       │\n",
      "│ str        ┆ str        ┆ str        ┆ ---       ┆ ---       ┆ datetime[ ┆ mer       ┆ duration[ │\n",
      "│            ┆            ┆            ┆ str       ┆ str       ┆ μs]       ┆ ---       ┆ μs]       │\n",
      "│            ┆            ┆            ┆           ┆           ┆           ┆ datetime[ ┆           │\n",
      "│            ┆            ┆            ┆           ┆           ┆           ┆ μs]       ┆           │\n",
      "╞════════════╪════════════╪════════════╪═══════════╪═══════════╪═══════════╪═══════════╪═══════════╡\n",
      "│ Jeremy     ┆ 516-544-41 ┆ mini       ┆ mini      ┆ blue      ┆ 2019-01-2 ┆ 2019-01-2 ┆ -11s      │\n",
      "│ Burch      ┆ 87         ┆ machine    ┆ machine   ┆           ┆ 5         ┆ 5         ┆           │\n",
      "│            ┆            ┆ magenta    ┆ blue      ┆           ┆ 12:01:30  ┆ 12:01:41  ┆           │\n",
      "│ Jeremy     ┆ 516-544-41 ┆ mini       ┆ mini      ┆ magenta   ┆ 2019-01-2 ┆ 2019-01-2 ┆ -11s      │\n",
      "│ Burch      ┆ 87         ┆ machine    ┆ machine   ┆           ┆ 5         ┆ 5         ┆           │\n",
      "│            ┆            ┆ magenta    ┆ blue      ┆           ┆ 12:01:30  ┆ 12:01:41  ┆           │\n",
      "│ Ashley     ┆ 516-631-82 ┆ power toy  ┆ lego toy  ┆ lego      ┆ 2021-07-2 ┆ 2021-07-2 ┆ -6m -51s  │\n",
      "│ Rivers     ┆ 17         ┆ soldier    ┆ soldier   ┆           ┆ 1         ┆ 1         ┆           │\n",
      "│            ┆            ┆            ┆           ┆           ┆ 09:50:44  ┆ 09:57:35  ┆           │\n",
      "│ Ashley     ┆ 516-631-82 ┆ power toy  ┆ lego toy  ┆ power     ┆ 2021-07-2 ┆ 2021-07-2 ┆ -6m -51s  │\n",
      "│ Rivers     ┆ 17         ┆ soldier    ┆ soldier   ┆           ┆ 1         ┆ 1         ┆           │\n",
      "│            ┆            ┆            ┆           ┆           ┆ 09:50:44  ┆ 09:57:35  ┆           │\n",
      "│ Timothy    ┆ 516-446-93 ┆ super doll ┆ lego doll ┆ lego      ┆ 2019-01-3 ┆ 2019-01-3 ┆ -11m -21s │\n",
      "│ Crawford   ┆ 31         ┆            ┆           ┆           ┆ 1         ┆ 1         ┆           │\n",
      "│ Jr.        ┆            ┆            ┆           ┆           ┆ 11:22:48  ┆ 11:34:09  ┆           │\n",
      "└────────────┴────────────┴────────────┴───────────┴───────────┴───────────┴───────────┴───────────┘\n"
     ]
    }
   ],
   "source": [
    "print(\n",
    "    day7.select(\n",
    "        [\n",
    "            \"name\",\n",
    "            \"phone\",\n",
    "            \"desc\",\n",
    "            \"desc_day6_customer\",\n",
    "            \"desc_delta\",\n",
    "            \"ordered\",\n",
    "            \"ordered_day6_customer\",\n",
    "            \"order_gap\",\n",
    "        ]\n",
    "    )\n",
    "    .filter(pl.col(\"order_gap\") < 0)\n",
    "    .top_k(5, by=\"order_gap\")\n",
    "    .head()\n",
    ")"
   ]
  },
  {
   "cell_type": "markdown",
   "id": "883d739e-416a-4f3c-85f3-222c425ae856",
   "metadata": {},
   "source": [
    "### Day 8\n",
    "\n",
    "- Target customer collects junk\n",
    "- Has a full set of Noah's collectibles"
   ]
  },
  {
   "cell_type": "code",
   "execution_count": 15,
   "id": "0392c0c3-e8d6-4ddf-9974-c93753fdb27c",
   "metadata": {},
   "outputs": [
    {
     "name": "stdout",
     "output_type": "stream",
     "text": [
      "shape: (101, 2)\n",
      "┌─────────┬──────────────────────────────┐\n",
      "│ sku     ┆ desc                         │\n",
      "│ ---     ┆ ---                          │\n",
      "│ str     ┆ str                          │\n",
      "╞═════════╪══════════════════════════════╡\n",
      "│ COL0030 ┆ Noah's Action Figure (azure) │\n",
      "│ COL0061 ┆ Noah's Jewelry (yellow)      │\n",
      "│ COL0325 ┆ Noah's Bobblehead (amber)    │\n",
      "│ COL0510 ┆ Noah's Poster (amber)        │\n",
      "│ …       ┆ …                            │\n",
      "│ TOY8520 ┆ Noah's Toy Soldier           │\n",
      "│ TOY8810 ┆ Noah's Silly Bandz           │\n",
      "│ TOY9885 ┆ Noah's Board Game            │\n",
      "│ TOY9997 ┆ Noah's Ball                  │\n",
      "└─────────┴──────────────────────────────┘\n"
     ]
    },
    {
     "data": {
      "text/plain": [
       "85"
      ]
     },
     "execution_count": 15,
     "metadata": {},
     "output_type": "execute_result"
    }
   ],
   "source": [
    "print(\n",
    "    df.select(\"sku\", \"desc\")\n",
    "    .filter(pl.col(\"desc\").str.contains(r\"(?i)(noah|collectible)\"))\n",
    "    .unique()\n",
    "    .sort(by=\"sku\")\n",
    ")\n",
    "\n",
    "collectibles = df.select(\"sku\").filter(pl.col(\"sku\").str.starts_with(\"COL\"))\n",
    "\n",
    "collectibles.n_unique()"
   ]
  },
  {
   "cell_type": "markdown",
   "id": "1eb4ebf2-7ad0-47a7-b4d0-13053f7d0a57",
   "metadata": {},
   "source": [
    "Ok looks like there are 85 unique collectible items, if we assume that any SKU starting with COL is a collectible.\n",
    "Nothing has collectible in the _description_, and using Noah/Noah's as a filter doesn't seem useful.\n",
    "\n",
    "So who has at least 1 order for every collectible?"
   ]
  },
  {
   "cell_type": "code",
   "execution_count": 16,
   "id": "d93658d4-0bfb-4597-93ef-e5977b6e174c",
   "metadata": {},
   "outputs": [
    {
     "name": "stdout",
     "output_type": "stream",
     "text": [
      "shape: (5, 3)\n",
      "┌────────────────┬──────────────┬──────────────────────┐\n",
      "│ name           ┆ phone        ┆ collectibles_ordered │\n",
      "│ ---            ┆ ---          ┆ ---                  │\n",
      "│ str            ┆ str          ┆ u32                  │\n",
      "╞════════════════╪══════════════╪══════════════════════╡\n",
      "│ Daniel Wilson  ┆ 516-638-9966 ┆ 85                   │\n",
      "│ John Krause    ┆ 585-227-3128 ┆ 31                   │\n",
      "│ John Camacho   ┆ 516-936-1871 ┆ 29                   │\n",
      "│ Justin Hall II ┆ 585-373-3185 ┆ 29                   │\n",
      "│ Abigail Hunt   ┆ 516-308-8960 ┆ 28                   │\n",
      "└────────────────┴──────────────┴──────────────────────┘\n"
     ]
    }
   ],
   "source": [
    "day8 = (\n",
    "    df.select(\"name\", \"phone\", \"sku\")\n",
    "    .join(collectibles, on=\"sku\")\n",
    "    .group_by(\"name\", \"phone\")\n",
    "    .agg(pl.col(\"sku\").n_unique().alias(\"collectibles_ordered\"))\n",
    ")\n",
    "\n",
    "print(day8.top_k(5, by=\"collectibles_ordered\"))"
   ]
  }
 ],
 "metadata": {
  "kernelspec": {
   "display_name": "hod",
   "language": "python",
   "name": "hod"
  },
  "language_info": {
   "codemirror_mode": {
    "name": "ipython",
    "version": 3
   },
   "file_extension": ".py",
   "mimetype": "text/x-python",
   "name": "python",
   "nbconvert_exporter": "python",
   "pygments_lexer": "ipython3",
   "version": "3.12.0"
  }
 },
 "nbformat": 4,
 "nbformat_minor": 5
}
