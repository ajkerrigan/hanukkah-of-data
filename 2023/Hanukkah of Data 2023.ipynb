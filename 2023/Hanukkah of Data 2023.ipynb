{
 "cells": [
  {
   "cell_type": "code",
   "execution_count": 1,
   "id": "3efbcfb6-83cf-41a6-81ec-8e950eeacf7d",
   "metadata": {},
   "outputs": [],
   "source": [
    "import sqlite3\n",
    "\n",
    "import polars as pl\n",
    "import polars.selectors as cs"
   ]
  },
  {
   "cell_type": "markdown",
   "id": "02cf4cca-6435-4de1-9d26-d1313996b9a3",
   "metadata": {},
   "source": [
    "## Setup\n",
    "\n",
    "I've decided that for this year I want to commit to using [Polars](https://pola.rs/) in a Jupyter notebook for all the puzzles.\n",
    "So here I load the SQLite data into a Polars DataFrame that I'll try to reuse across all puzzles.\n",
    "\n",
    "I cheat a _little_ bit here by starting with a query that I incrementally worked toward [in 2022](https://dev.to/ajkerrigan/series/21177)."
   ]
  },
  {
   "cell_type": "code",
   "execution_count": 2,
   "id": "5f36c467-5bf2-439d-aa5a-31d753b58b95",
   "metadata": {},
   "outputs": [],
   "source": [
    "con = sqlite3.connect(\"5784/noahs.sqlite\")\n",
    "df = pl.read_database(\n",
    "    connection=con,\n",
    "    query=\"\"\"\n",
    "        select\n",
    "          c.*,\n",
    "          o.orderid,\n",
    "          o.ordered,\n",
    "          o.shipped,\n",
    "          o.total,\n",
    "          i.qty,\n",
    "          i.unit_price,\n",
    "          p.sku,\n",
    "          p.desc,\n",
    "          p.wholesale_cost\n",
    "        from\n",
    "          customers c\n",
    "          join orders o on c.customerid = o.customerid\n",
    "          join orders_items i on o.orderid = i.orderid\n",
    "          join products p on i.sku = p.sku\n",
    "  \"\"\",\n",
    ")"
   ]
  },
  {
   "cell_type": "markdown",
   "id": "95d797dd-5c6f-43ec-b7c4-4322e4303a55",
   "metadata": {},
   "source": [
    "## Puzzle Solutions"
   ]
  },
  {
   "cell_type": "markdown",
   "id": "4603bafd-d008-4b81-a7e8-a49226dc4e0a",
   "metadata": {},
   "source": [
    "### Day 1\n",
    "\n",
    "**Useful Facts:**\n",
    "\n",
    "- Target customer is a private investigator\n",
    "- Translating that customer's last name to numbers using a phone pad as a key produces the customer's phone number"
   ]
  },
  {
   "cell_type": "markdown",
   "id": "ec5257d3-5b9d-4b48-8f8f-854ee9c01efa",
   "metadata": {},
   "source": [
    "#### Polars Helper\n",
    "\n",
    "It would be nice to have a convenient Polars-native way to translate a customer's name to its phone number equivalent.\n",
    "This seems like a good case for [extending the Polars expression namespace](https://pola-rs.github.io/polars/py-polars/html/reference/api.html#extending-the-api)."
   ]
  },
  {
   "cell_type": "code",
   "execution_count": 3,
   "id": "13d2bfe0-8c32-4cb4-974b-1cfea6355d12",
   "metadata": {},
   "outputs": [],
   "source": [
    "@pl.api.register_expr_namespace(\"phonepad\")\n",
    "class Phonepad:\n",
    "    def __init__(self, expr: pl.Expr):\n",
    "        self._expr = expr\n",
    "\n",
    "    def to_numbers(self):\n",
    "        return (\n",
    "            self._expr.str.to_lowercase()\n",
    "            .str.replace_all(r\"[^a-z]\", \"\")\n",
    "            .str.replace_all(r\"[abc]\", \"2\")\n",
    "            .str.replace_all(r\"[def]\", \"3\")\n",
    "            .str.replace_all(r\"[ghi]\", \"4\")\n",
    "            .str.replace_all(r\"[jkl]\", \"5\")\n",
    "            .str.replace_all(r\"[mno]\", \"6\")\n",
    "            .str.replace_all(r\"[pqrs]\", \"7\")\n",
    "            .str.replace_all(r\"[tuv]\", \"8\")\n",
    "            .str.replace_all(r\"[wxyz]\", \"9\")\n",
    "        )"
   ]
  },
  {
   "cell_type": "markdown",
   "id": "7a9ae3ea-920c-4da2-a883-1d999c483838",
   "metadata": {},
   "source": [
    "#### Solution\n",
    "\n",
    "With a convenience expression namespace/method, we can check to see if a customer's phonified name contains the digits of their phone number."
   ]
  },
  {
   "cell_type": "code",
   "execution_count": 4,
   "id": "2fbd0301-72fc-4c33-abe1-4421e751b450",
   "metadata": {},
   "outputs": [
    {
     "name": "stdout",
     "output_type": "stream",
     "text": [
      "CPU times: user 2 µs, sys: 0 ns, total: 2 µs\n",
      "Wall time: 5.25 µs\n",
      "CPU times: user 2 µs, sys: 1 µs, total: 3 µs\n",
      "Wall time: 4.29 µs\n"
     ]
    },
    {
     "data": {
      "text/plain": [
       "'826-636-2286'"
      ]
     },
     "execution_count": 4,
     "metadata": {},
     "output_type": "execute_result"
    }
   ],
   "source": [
    "%time\n",
    "day1 = df.filter(\n",
    "    pl.col(\"name\")\n",
    "    .phonepad.to_numbers()\n",
    "    .str.contains(pl.col(\"phone\").str.replace_all(r\"[^\\d]+\", \"\"))\n",
    ")\n",
    "\n",
    "%time\n",
    "day1.select(\"phone\").unique().item()"
   ]
  },
  {
   "cell_type": "markdown",
   "id": "2da01ff1-1f06-4c41-80ed-a8f18218d216",
   "metadata": {},
   "source": [
    "#### Lazy Alternative\n",
    "\n",
    "It seems useful to practice using the Polars [LazyFrame API](https://pola-rs.github.io/polars/user-guide/lazy/using/). There's no\n",
    "`scan_database()` method that I can see, and since we're reusing a single DataFrame across multiple days it seems sensible\n",
    "to have the whole thing in memory anyway.\n",
    "\n",
    "_But_... we can call `.lazy()` on it and see what optimizations we get under the covers. In this case the time difference\n",
    "seems negligible, but it's interesting in any case. Note that the unoptimized [query plan](https://pola-rs.github.io/polars/user-guide/lazy/query-plan/)\n",
    "has two steps:\n",
    "\n",
    "1. Select all columns from every row\n",
    "2. Apply a filter\n",
    "\n",
    "Where the optimized plan merges those operations into a single step, filtering as part of the selection. Neat!\n",
    "\n",
    "_I still suspect there's a smarter way to do that janky multi-replacement though..._"
   ]
  },
  {
   "cell_type": "code",
   "execution_count": 15,
   "id": "4ac90d21-ae6e-4a70-a2b9-0b0c734d08a6",
   "metadata": {},
   "outputs": [
    {
     "name": "stdout",
     "output_type": "stream",
     "text": [
      "Unoptimized query plan & graph...\n",
      "FILTER col(\"name\").str.lowercase().str.replace([Utf8([^a-z]), Utf8()]).str.replace([Utf8([abc]), Utf8(2)]).str.replace([Utf8([def]), Utf8(3)]).str.replace([Utf8([ghi]), Utf8(4)]).str.replace([Utf8([jkl]), Utf8(5)]).str.replace([Utf8([mno]), Utf8(6)]).str.replace([Utf8([pqrs]), Utf8(7)]).str.replace([Utf8([tuv]), Utf8(8)]).str.replace([Utf8([wxyz]), Utf8(9)]).str.contains([col(\"phone\").str.replace([Utf8([^\\d]+), Utf8()])]) FROM\n",
      "DF [\"customerid\", \"name\", \"address\", \"citystatezip\"]\n",
      " PROJECT */18 COLUMNS\n",
      " SELECTION: \"None\"\n"
     ]
    },
    {
     "data": {
      "image/svg+xml": [
       "<svg xmlns=\"http://www.w3.org/2000/svg\" xmlns:xlink=\"http://www.w3.org/1999/xlink\" width=\"249pt\" height=\"133pt\" viewBox=\"0.00 0.00 249.00 133.00\">\n",
       "<g id=\"graph0\" class=\"graph\" transform=\"scale(1 1) rotate(0) translate(4 129)\">\n",
       "<title>polars_query</title>\n",
       "<polygon fill=\"white\" stroke=\"transparent\" points=\"-4,4 -4,-129 245,-129 245,4 -4,4\"/>\n",
       "<!-- FILTER BY col(&quot;name&quot;).str.lowercase... [(0, 0)] -->\n",
       "<g id=\"node1\" class=\"node\">\n",
       "<title>FILTER BY col(&quot;name&quot;).str.lowercase... [(0, 0)]</title>\n",
       "<polygon fill=\"none\" stroke=\"black\" points=\"241,-125 0,-125 0,-89 241,-89 241,-125\"/>\n",
       "<text text-anchor=\"middle\" x=\"120.5\" y=\"-103.3\" font-family=\"Times,serif\" font-size=\"14.00\">FILTER BY col(&quot;name&quot;).str.lowercase...</text>\n",
       "</g>\n",
       "<!-- TABLE\n",
       "π */18;\n",
       "σ &#45;; [(0, 1)] -->\n",
       "<g id=\"node2\" class=\"node\">\n",
       "<title>TABLE\n",
       "π */18;\n",
       "σ -; [(0, 1)]</title>\n",
       "<polygon fill=\"none\" stroke=\"black\" points=\"150.5,-53 90.5,-53 90.5,0 150.5,0 150.5,-53\"/>\n",
       "<text text-anchor=\"middle\" x=\"120.5\" y=\"-37.8\" font-family=\"Times,serif\" font-size=\"14.00\">TABLE</text>\n",
       "<text text-anchor=\"middle\" x=\"120.5\" y=\"-22.8\" font-family=\"Times,serif\" font-size=\"14.00\">π */18;</text>\n",
       "<text text-anchor=\"middle\" x=\"120.5\" y=\"-7.8\" font-family=\"Times,serif\" font-size=\"14.00\">σ -;</text>\n",
       "</g>\n",
       "<!-- FILTER BY col(&quot;name&quot;).str.lowercase... [(0, 0)]&#45;&#45;TABLE\n",
       "π */18;\n",
       "σ &#45;; [(0, 1)] -->\n",
       "<g id=\"edge1\" class=\"edge\">\n",
       "<title>FILTER BY col(&quot;name&quot;).str.lowercase... [(0, 0)]--TABLE\n",
       "π */18;\n",
       "σ -; [(0, 1)]</title>\n",
       "<path fill=\"none\" stroke=\"black\" d=\"M120.5,-88.97C120.5,-78.51 120.5,-64.9 120.5,-53.16\"/>\n",
       "</g>\n",
       "</g>\n",
       "</svg>"
      ],
      "text/plain": [
       "<IPython.core.display.SVG object>"
      ]
     },
     "metadata": {},
     "output_type": "display_data"
    },
    {
     "name": "stdout",
     "output_type": "stream",
     "text": [
      "\n",
      "Optimized query plan...\n",
      "DF [\"customerid\", \"name\", \"address\", \"citystatezip\"]\n",
      " PROJECT */18 COLUMNS\n",
      " SELECTION: \"col(\\\"name\\\").str.lowercase().str.replace([Utf8([^a-z]), Utf8()]).str.replace([Utf8([abc]), Utf8(2)]).str.replace([Utf8([def]), Utf8(3)]).str.replace([Utf8([ghi]), Utf8(4)]).str.replace([Utf8([jkl]), Utf8(5)]).str.replace([Utf8([mno]), Utf8(6)]).str.replace([Utf8([pqrs]), Utf8(7)]).str.replace([Utf8([tuv]), Utf8(8)]).str.replace([Utf8([wxyz]), Utf8(9)]).str.contains([col(\\\"phone\\\").str.replace([Utf8([^\\\\d]+), Utf8()])])\"\n"
     ]
    },
    {
     "data": {
      "image/svg+xml": [
       "<svg xmlns=\"http://www.w3.org/2000/svg\" xmlns:xlink=\"http://www.w3.org/1999/xlink\" width=\"197pt\" height=\"61pt\" viewBox=\"0.00 0.00 197.00 61.00\">\n",
       "<g id=\"graph0\" class=\"graph\" transform=\"scale(1 1) rotate(0) translate(4 57)\">\n",
       "<title>polars_query</title>\n",
       "<polygon fill=\"white\" stroke=\"transparent\" points=\"-4,4 -4,-57 193,-57 193,4 -4,4\"/>\n",
       "<!-- [TABLE\n",
       "π */18;\n",
       "σ col(&quot;name&quot;).str.lowercase...;] -->\n",
       "<g id=\"node1\" class=\"node\">\n",
       "<title>[TABLE\n",
       "π */18;\n",
       "σ col(&quot;name&quot;).str.lowercase...;]</title>\n",
       "<polygon fill=\"none\" stroke=\"black\" points=\"189,-53 0,-53 0,0 189,0 189,-53\"/>\n",
       "<text text-anchor=\"middle\" x=\"94.5\" y=\"-37.8\" font-family=\"Times,serif\" font-size=\"14.00\">[TABLE</text>\n",
       "<text text-anchor=\"middle\" x=\"94.5\" y=\"-22.8\" font-family=\"Times,serif\" font-size=\"14.00\">π */18;</text>\n",
       "<text text-anchor=\"middle\" x=\"94.5\" y=\"-7.8\" font-family=\"Times,serif\" font-size=\"14.00\">σ col(&quot;name&quot;).str.lowercase...;]</text>\n",
       "</g>\n",
       "</g>\n",
       "</svg>"
      ],
      "text/plain": [
       "<IPython.core.display.SVG object>"
      ]
     },
     "metadata": {},
     "output_type": "display_data"
    },
    {
     "data": {
      "text/plain": [
       "'826-636-2286'"
      ]
     },
     "execution_count": 15,
     "metadata": {},
     "output_type": "execute_result"
    }
   ],
   "source": [
    "day1_lazy = df.lazy().filter(\n",
    "    pl.col(\"name\")\n",
    "    .phonepad.to_numbers()\n",
    "    .str.contains(pl.col(\"phone\").str.replace_all(r\"[^\\d]+\", \"\"))\n",
    ")\n",
    "\n",
    "print(\"Unoptimized query plan & graph...\")\n",
    "print(\"\\n\".join(day1_lazy.explain(optimized=False).split(\";\")))\n",
    "day1_lazy.show_graph(optimized=False)\n",
    "\n",
    "print(\"\\nOptimized query plan...\")\n",
    "print(\"\\n\".join(day1_lazy.explain(optimized=True).split(\";\")))\n",
    "day1_lazy.show_graph(optimized=True)\n",
    "\n",
    "day1_lazy.collect().select(\"phone\").unique().item()"
   ]
  },
  {
   "cell_type": "markdown",
   "id": "92c17c85-f225-4f2a-966f-8a5ea71ab525",
   "metadata": {},
   "source": [
    "### Day 2\n",
    "\n",
    "**Useful Facts:**\n",
    "\n",
    "- Target customer had initials JP\n",
    "- Bought coffee and bagels in 2017\n",
    "\n",
    "This is doable by chaining together filters against a customer's name, order history and order date."
   ]
  },
  {
   "cell_type": "code",
   "execution_count": 7,
   "id": "8233cf37-68f4-4146-9581-da12ce405f45",
   "metadata": {},
   "outputs": [
    {
     "data": {
      "text/plain": [
       "'332-274-4185'"
      ]
     },
     "execution_count": 7,
     "metadata": {},
     "output_type": "execute_result"
    }
   ],
   "source": [
    "day2 = df.filter(\n",
    "    (pl.col(\"name\").str.contains(r\"J.*P\"))\n",
    "    & (pl.col(\"desc\").str.contains(r\"(?i)(coffee|bagel)\"))\n",
    "    & (pl.col(\"ordered\").str.strptime(pl.Datetime).dt.year() == 2017)\n",
    ")\n",
    "\n",
    "day2.select(\"phone\").unique().item()"
   ]
  },
  {
   "cell_type": "markdown",
   "id": "065aa4c8-49ed-4291-9974-c9fa8e370ba3",
   "metadata": {},
   "source": [
    "### Day 3\n",
    "\n",
    "**Useful Facts:**\n",
    "\n",
    "- Target customer lives in last customer's neighborhood\n",
    "  - Maybe city, maybe zip code\n",
    "  - Try city/state/zip match first\n",
    "- Cancer\n",
    "  - June 21 - July 22\n",
    "  - Julian values 173 - 203\n",
    "- Year of the rabbit\n",
    "  - Birth year mod 12 = 7"
   ]
  },
  {
   "cell_type": "code",
   "execution_count": 8,
   "id": "c74dc056-037e-46cc-bd93-cdb494ae9e10",
   "metadata": {},
   "outputs": [
    {
     "data": {
      "text/html": [
       "<div><style>\n",
       ".dataframe > thead > tr,\n",
       ".dataframe > tbody > tr {\n",
       "  text-align: right;\n",
       "  white-space: pre-wrap;\n",
       "}\n",
       "</style>\n",
       "<small>shape: (1, 3)</small><table border=\"1\" class=\"dataframe\"><thead><tr><th>name</th><th>citystatezip</th><th>phone</th></tr><tr><td>str</td><td>str</td><td>str</td></tr></thead><tbody><tr><td>&quot;Robert Morton&quot;</td><td>&quot;Jamaica, NY 11…</td><td>&quot;917-288-9635&quot;</td></tr></tbody></table></div>"
      ],
      "text/plain": [
       "shape: (1, 3)\n",
       "┌───────────────┬───────────────────┬──────────────┐\n",
       "│ name          ┆ citystatezip      ┆ phone        │\n",
       "│ ---           ┆ ---               ┆ ---          │\n",
       "│ str           ┆ str               ┆ str          │\n",
       "╞═══════════════╪═══════════════════╪══════════════╡\n",
       "│ Robert Morton ┆ Jamaica, NY 11435 ┆ 917-288-9635 │\n",
       "└───────────────┴───────────────────┴──────────────┘"
      ]
     },
     "execution_count": 8,
     "metadata": {},
     "output_type": "execute_result"
    }
   ],
   "source": [
    "neighborhood = day2.select(\"citystatezip\").unique().item()\n",
    "\n",
    "day3 = df.filter(\n",
    "    (\n",
    "        pl.col(\"birthdate\")\n",
    "        .str.strptime(pl.Datetime)\n",
    "        .dt.ordinal_day()\n",
    "        .is_between(173, 203)\n",
    "    )\n",
    "    & (pl.col(\"birthdate\").str.strptime(pl.Datetime).dt.year() % 12 == 7)\n",
    "    & (pl.col(\"citystatezip\") == neighborhood)\n",
    ")\n",
    "\n",
    "day3.select([\"name\", \"citystatezip\", \"phone\"]).unique()"
   ]
  },
  {
   "cell_type": "markdown",
   "id": "428b2fac-7743-49d6-bb1a-bba230934c9f",
   "metadata": {},
   "source": [
    "### Day 4\n",
    "\n",
    "**Useful Facts:**\n",
    "\n",
    "- Target customer buys pastries early - before 5am\n",
    "  - Years ago\n",
    "- Is a woman\n",
    "- Came by bike - maybe assume close by, same city?"
   ]
  },
  {
   "cell_type": "code",
   "execution_count": 14,
   "id": "7a95e255-ad2f-4359-a8ee-93b958750a31",
   "metadata": {},
   "outputs": [
    {
     "data": {
      "text/html": [
       "<div><style>\n",
       ".dataframe > thead > tr,\n",
       ".dataframe > tbody > tr {\n",
       "  text-align: right;\n",
       "  white-space: pre-wrap;\n",
       "}\n",
       "</style>\n",
       "<small>shape: (5, 3)</small><table border=\"1\" class=\"dataframe\"><thead><tr><th>name</th><th>phone</th><th>ordercount</th></tr><tr><td>str</td><td>str</td><td>u32</td></tr></thead><tbody><tr><td>&quot;Renee Harmon&quot;</td><td>&quot;607-231-3605&quot;</td><td>5</td></tr><tr><td>&quot;James Eaton&quot;</td><td>&quot;838-958-4372&quot;</td><td>3</td></tr><tr><td>&quot;Lindsey Mays&quot;</td><td>&quot;631-280-4337&quot;</td><td>2</td></tr><tr><td>&quot;Christopher Ga…</td><td>&quot;716-263-0817&quot;</td><td>2</td></tr><tr><td>&quot;Glenn Wolfe&quot;</td><td>&quot;716-622-1529&quot;</td><td>1</td></tr></tbody></table></div>"
      ],
      "text/plain": [
       "shape: (5, 3)\n",
       "┌────────────────────┬──────────────┬────────────┐\n",
       "│ name               ┆ phone        ┆ ordercount │\n",
       "│ ---                ┆ ---          ┆ ---        │\n",
       "│ str                ┆ str          ┆ u32        │\n",
       "╞════════════════════╪══════════════╪════════════╡\n",
       "│ Renee Harmon       ┆ 607-231-3605 ┆ 5          │\n",
       "│ James Eaton        ┆ 838-958-4372 ┆ 3          │\n",
       "│ Lindsey Mays       ┆ 631-280-4337 ┆ 2          │\n",
       "│ Christopher Garcia ┆ 716-263-0817 ┆ 2          │\n",
       "│ Glenn Wolfe        ┆ 716-622-1529 ┆ 1          │\n",
       "└────────────────────┴──────────────┴────────────┘"
      ]
     },
     "execution_count": 14,
     "metadata": {},
     "output_type": "execute_result"
    }
   ],
   "source": [
    "day4 = (\n",
    "    df.filter(\n",
    "        (pl.col(\"sku\").str.starts_with(\"BKY\"))\n",
    "        & (pl.col(\"ordered\").str.strptime(pl.Datetime).dt.hour() == 4)\n",
    "    )\n",
    "    .group_by([\"name\", \"phone\"])\n",
    "    .agg(pl.col(\"orderid\").count().alias(\"ordercount\"))\n",
    "    .top_k(5, by=\"ordercount\")\n",
    ")\n",
    "\n",
    "day4.select([\"name\", \"phone\", \"ordercount\"])"
   ]
  },
  {
   "cell_type": "markdown",
   "id": "c13023ae-8b9f-427c-88da-0e8b0bccb01f",
   "metadata": {},
   "source": [
    "#### Lazy Alternative\n",
    "\n",
    "There's a bit more going on here than on day 1, so I'm curious what a LazyFrame's query plan optimizations would look like here.\n",
    "\n",
    "Again it's worth pointing out that lazy evaluation doesn't seem particularly useful for these challenges, given the size and reusability\n",
    "of the dataset. It's still neat to see the sorts of plan optimizations Polars does under the covers though."
   ]
  },
  {
   "cell_type": "code",
   "execution_count": 16,
   "id": "3d3b9fce-5142-417e-ab06-c965f1228b65",
   "metadata": {},
   "outputs": [
    {
     "name": "stdout",
     "output_type": "stream",
     "text": [
      "Unoptimized query plan & graph...\n",
      "SLICE[offset: 0, len: 5]\n",
      "  SORT BY [col(\"ordercount\")]\n",
      "    AGGREGATE\n",
      "    \t[col(\"orderid\").count().alias(\"ordercount\")] BY [col(\"name\"), col(\"phone\")] FROM\n",
      "      FILTER [(col(\"sku\").str.starts_with([Utf8(BKY)])) & ([(col(\"ordered\").str.strptime([Utf8(raise)]).dt.hour()) == (4)])] FROM\n",
      "\n",
      "      DF [\"customerid\", \"name\", \"address\", \"citystatezip\"]\n",
      " PROJECT */18 COLUMNS\n",
      " SELECTION: \"None\"\n"
     ]
    },
    {
     "data": {
      "image/svg+xml": [
       "<svg xmlns=\"http://www.w3.org/2000/svg\" xmlns:xlink=\"http://www.w3.org/1999/xlink\" width=\"294pt\" height=\"366pt\" viewBox=\"0.00 0.00 294.00 366.00\">\n",
       "<g id=\"graph0\" class=\"graph\" transform=\"scale(1 1) rotate(0) translate(4 362)\">\n",
       "<title>polars_query</title>\n",
       "<polygon fill=\"white\" stroke=\"transparent\" points=\"-4,4 -4,-362 290,-362 290,4 -4,4\"/>\n",
       "<!-- SLICE offset: 0; len: 5 [(0, 0)] -->\n",
       "<g id=\"node1\" class=\"node\">\n",
       "<title>SLICE offset: 0; len: 5 [(0, 0)]</title>\n",
       "<polygon fill=\"none\" stroke=\"black\" points=\"213.5,-358 72.5,-358 72.5,-322 213.5,-322 213.5,-358\"/>\n",
       "<text text-anchor=\"middle\" x=\"143\" y=\"-336.3\" font-family=\"Times,serif\" font-size=\"14.00\">SLICE offset: 0; len: 5</text>\n",
       "</g>\n",
       "<!-- SORT BY [col(&quot;ordercount&quot;)] [(0, 1)] -->\n",
       "<g id=\"node2\" class=\"node\">\n",
       "<title>SORT BY [col(&quot;ordercount&quot;)] [(0, 1)]</title>\n",
       "<polygon fill=\"none\" stroke=\"black\" points=\"233.5,-286 52.5,-286 52.5,-250 233.5,-250 233.5,-286\"/>\n",
       "<text text-anchor=\"middle\" x=\"143\" y=\"-264.3\" font-family=\"Times,serif\" font-size=\"14.00\">SORT BY [col(&quot;ordercount&quot;)]</text>\n",
       "</g>\n",
       "<!-- SLICE offset: 0; len: 5 [(0, 0)]&#45;&#45;SORT BY [col(&quot;ordercount&quot;)] [(0, 1)] -->\n",
       "<g id=\"edge1\" class=\"edge\">\n",
       "<title>SLICE offset: 0; len: 5 [(0, 0)]--SORT BY [col(&quot;ordercount&quot;)] [(0, 1)]</title>\n",
       "<path fill=\"none\" stroke=\"black\" d=\"M143,-321.7C143,-310.85 143,-296.92 143,-286.1\"/>\n",
       "</g>\n",
       "<!-- AGG [col(&quot;orderid&quot;).count().alias(&quot;ordercount&quot;)]\n",
       "BY\n",
       "[col(&quot;name&quot;),col(&quot;phone&quot;)] [(0, 2)] [(0, 2)] -->\n",
       "<g id=\"node3\" class=\"node\">\n",
       "<title>AGG [col(&quot;orderid&quot;).count().alias(&quot;ordercount&quot;)]\n",
       "BY\n",
       "[col(&quot;name&quot;),col(&quot;phone&quot;)] [(0, 2)] [(0, 2)]</title>\n",
       "<polygon fill=\"none\" stroke=\"black\" points=\"286,-214 0,-214 0,-161 286,-161 286,-214\"/>\n",
       "<text text-anchor=\"middle\" x=\"143\" y=\"-198.8\" font-family=\"Times,serif\" font-size=\"14.00\">AGG [col(&quot;orderid&quot;).count().alias(&quot;ordercount&quot;)]</text>\n",
       "<text text-anchor=\"middle\" x=\"143\" y=\"-183.8\" font-family=\"Times,serif\" font-size=\"14.00\">BY</text>\n",
       "<text text-anchor=\"middle\" x=\"143\" y=\"-168.8\" font-family=\"Times,serif\" font-size=\"14.00\">[col(&quot;name&quot;),col(&quot;phone&quot;)] [(0, 2)]</text>\n",
       "</g>\n",
       "<!-- SORT BY [col(&quot;ordercount&quot;)] [(0, 1)]&#45;&#45;AGG [col(&quot;orderid&quot;).count().alias(&quot;ordercount&quot;)]\n",
       "BY\n",
       "[col(&quot;name&quot;),col(&quot;phone&quot;)] [(0, 2)] [(0, 2)] -->\n",
       "<g id=\"edge2\" class=\"edge\">\n",
       "<title>SORT BY [col(&quot;ordercount&quot;)] [(0, 1)]--AGG [col(&quot;orderid&quot;).count().alias(&quot;ordercount&quot;)]\n",
       "BY\n",
       "[col(&quot;name&quot;),col(&quot;phone&quot;)] [(0, 2)] [(0, 2)]</title>\n",
       "<path fill=\"none\" stroke=\"black\" d=\"M143,-249.97C143,-239.51 143,-225.9 143,-214.16\"/>\n",
       "</g>\n",
       "<!-- FILTER BY (col(&quot;sku&quot;).str.starts_wi... [(0, 3)] -->\n",
       "<g id=\"node4\" class=\"node\">\n",
       "<title>FILTER BY (col(&quot;sku&quot;).str.starts_wi... [(0, 3)]</title>\n",
       "<polygon fill=\"none\" stroke=\"black\" points=\"257.5,-125 28.5,-125 28.5,-89 257.5,-89 257.5,-125\"/>\n",
       "<text text-anchor=\"middle\" x=\"143\" y=\"-103.3\" font-family=\"Times,serif\" font-size=\"14.00\">FILTER BY (col(&quot;sku&quot;).str.starts_wi...</text>\n",
       "</g>\n",
       "<!-- AGG [col(&quot;orderid&quot;).count().alias(&quot;ordercount&quot;)]\n",
       "BY\n",
       "[col(&quot;name&quot;),col(&quot;phone&quot;)] [(0, 2)] [(0, 2)]&#45;&#45;FILTER BY (col(&quot;sku&quot;).str.starts_wi... [(0, 3)] -->\n",
       "<g id=\"edge3\" class=\"edge\">\n",
       "<title>AGG [col(&quot;orderid&quot;).count().alias(&quot;ordercount&quot;)]\n",
       "BY\n",
       "[col(&quot;name&quot;),col(&quot;phone&quot;)] [(0, 2)] [(0, 2)]--FILTER BY (col(&quot;sku&quot;).str.starts_wi... [(0, 3)]</title>\n",
       "<path fill=\"none\" stroke=\"black\" d=\"M143,-160.8C143,-149.17 143,-135.74 143,-125.33\"/>\n",
       "</g>\n",
       "<!-- TABLE\n",
       "π */18;\n",
       "σ &#45;; [(0, 4)] -->\n",
       "<g id=\"node5\" class=\"node\">\n",
       "<title>TABLE\n",
       "π */18;\n",
       "σ -; [(0, 4)]</title>\n",
       "<polygon fill=\"none\" stroke=\"black\" points=\"173,-53 113,-53 113,0 173,0 173,-53\"/>\n",
       "<text text-anchor=\"middle\" x=\"143\" y=\"-37.8\" font-family=\"Times,serif\" font-size=\"14.00\">TABLE</text>\n",
       "<text text-anchor=\"middle\" x=\"143\" y=\"-22.8\" font-family=\"Times,serif\" font-size=\"14.00\">π */18;</text>\n",
       "<text text-anchor=\"middle\" x=\"143\" y=\"-7.8\" font-family=\"Times,serif\" font-size=\"14.00\">σ -;</text>\n",
       "</g>\n",
       "<!-- FILTER BY (col(&quot;sku&quot;).str.starts_wi... [(0, 3)]&#45;&#45;TABLE\n",
       "π */18;\n",
       "σ &#45;; [(0, 4)] -->\n",
       "<g id=\"edge4\" class=\"edge\">\n",
       "<title>FILTER BY (col(&quot;sku&quot;).str.starts_wi... [(0, 3)]--TABLE\n",
       "π */18;\n",
       "σ -; [(0, 4)]</title>\n",
       "<path fill=\"none\" stroke=\"black\" d=\"M143,-88.97C143,-78.51 143,-64.9 143,-53.16\"/>\n",
       "</g>\n",
       "</g>\n",
       "</svg>"
      ],
      "text/plain": [
       "<IPython.core.display.SVG object>"
      ]
     },
     "metadata": {},
     "output_type": "display_data"
    },
    {
     "name": "stdout",
     "output_type": "stream",
     "text": [
      "Optimized query plan & graph...\n",
      "SORT BY [col(\"ordercount\")]\n",
      "  AGGREGATE\n",
      "  \t[col(\"orderid\").count().alias(\"ordercount\")] BY [col(\"name\"), col(\"phone\")] FROM\n",
      "    DF [\"customerid\", \"name\", \"address\", \"citystatezip\"]\n",
      " PROJECT 5/18 COLUMNS\n",
      " SELECTION: \"[(col(\\\"sku\\\").str.starts_with([Utf8(BKY)])) & ([(col(\\\"ordered\\\").str.strptime([Utf8(raise)]).dt.hour()) == (4)])]\"\n"
     ]
    },
    {
     "data": {
      "image/svg+xml": [
       "<svg xmlns=\"http://www.w3.org/2000/svg\" xmlns:xlink=\"http://www.w3.org/1999/xlink\" width=\"294pt\" height=\"222pt\" viewBox=\"0.00 0.00 294.00 222.00\">\n",
       "<g id=\"graph0\" class=\"graph\" transform=\"scale(1 1) rotate(0) translate(4 218)\">\n",
       "<title>polars_query</title>\n",
       "<polygon fill=\"white\" stroke=\"transparent\" points=\"-4,4 -4,-218 290,-218 290,4 -4,4\"/>\n",
       "<!-- SORT BY [col(&quot;ordercount&quot;)] [(0, 0)] -->\n",
       "<g id=\"node1\" class=\"node\">\n",
       "<title>SORT BY [col(&quot;ordercount&quot;)] [(0, 0)]</title>\n",
       "<polygon fill=\"none\" stroke=\"black\" points=\"233.5,-214 52.5,-214 52.5,-178 233.5,-178 233.5,-214\"/>\n",
       "<text text-anchor=\"middle\" x=\"143\" y=\"-192.3\" font-family=\"Times,serif\" font-size=\"14.00\">SORT BY [col(&quot;ordercount&quot;)]</text>\n",
       "</g>\n",
       "<!-- AGG [col(&quot;orderid&quot;).count().alias(&quot;ordercount&quot;)]\n",
       "BY\n",
       "[col(&quot;name&quot;),col(&quot;phone&quot;)] [(0, 1)] [(0, 1)] -->\n",
       "<g id=\"node2\" class=\"node\">\n",
       "<title>AGG [col(&quot;orderid&quot;).count().alias(&quot;ordercount&quot;)]\n",
       "BY\n",
       "[col(&quot;name&quot;),col(&quot;phone&quot;)] [(0, 1)] [(0, 1)]</title>\n",
       "<polygon fill=\"none\" stroke=\"black\" points=\"286,-142 0,-142 0,-89 286,-89 286,-142\"/>\n",
       "<text text-anchor=\"middle\" x=\"143\" y=\"-126.8\" font-family=\"Times,serif\" font-size=\"14.00\">AGG [col(&quot;orderid&quot;).count().alias(&quot;ordercount&quot;)]</text>\n",
       "<text text-anchor=\"middle\" x=\"143\" y=\"-111.8\" font-family=\"Times,serif\" font-size=\"14.00\">BY</text>\n",
       "<text text-anchor=\"middle\" x=\"143\" y=\"-96.8\" font-family=\"Times,serif\" font-size=\"14.00\">[col(&quot;name&quot;),col(&quot;phone&quot;)] [(0, 1)]</text>\n",
       "</g>\n",
       "<!-- SORT BY [col(&quot;ordercount&quot;)] [(0, 0)]&#45;&#45;AGG [col(&quot;orderid&quot;).count().alias(&quot;ordercount&quot;)]\n",
       "BY\n",
       "[col(&quot;name&quot;),col(&quot;phone&quot;)] [(0, 1)] [(0, 1)] -->\n",
       "<g id=\"edge1\" class=\"edge\">\n",
       "<title>SORT BY [col(&quot;ordercount&quot;)] [(0, 0)]--AGG [col(&quot;orderid&quot;).count().alias(&quot;ordercount&quot;)]\n",
       "BY\n",
       "[col(&quot;name&quot;),col(&quot;phone&quot;)] [(0, 1)] [(0, 1)]</title>\n",
       "<path fill=\"none\" stroke=\"black\" d=\"M143,-177.97C143,-167.51 143,-153.9 143,-142.16\"/>\n",
       "</g>\n",
       "<!-- TABLE\n",
       "π 5/18;\n",
       "σ (col(&quot;sku&quot;).str.starts_wi...; [(0, 2)] -->\n",
       "<g id=\"node3\" class=\"node\">\n",
       "<title>TABLE\n",
       "π 5/18;\n",
       "σ (col(&quot;sku&quot;).str.starts_wi...; [(0, 2)]</title>\n",
       "<polygon fill=\"none\" stroke=\"black\" points=\"229.5,-53 56.5,-53 56.5,0 229.5,0 229.5,-53\"/>\n",
       "<text text-anchor=\"middle\" x=\"143\" y=\"-37.8\" font-family=\"Times,serif\" font-size=\"14.00\">TABLE</text>\n",
       "<text text-anchor=\"middle\" x=\"143\" y=\"-22.8\" font-family=\"Times,serif\" font-size=\"14.00\">π 5/18;</text>\n",
       "<text text-anchor=\"middle\" x=\"143\" y=\"-7.8\" font-family=\"Times,serif\" font-size=\"14.00\">σ (col(&quot;sku&quot;).str.starts_wi...;</text>\n",
       "</g>\n",
       "<!-- AGG [col(&quot;orderid&quot;).count().alias(&quot;ordercount&quot;)]\n",
       "BY\n",
       "[col(&quot;name&quot;),col(&quot;phone&quot;)] [(0, 1)] [(0, 1)]&#45;&#45;TABLE\n",
       "π 5/18;\n",
       "σ (col(&quot;sku&quot;).str.starts_wi...; [(0, 2)] -->\n",
       "<g id=\"edge2\" class=\"edge\">\n",
       "<title>AGG [col(&quot;orderid&quot;).count().alias(&quot;ordercount&quot;)]\n",
       "BY\n",
       "[col(&quot;name&quot;),col(&quot;phone&quot;)] [(0, 1)] [(0, 1)]--TABLE\n",
       "π 5/18;\n",
       "σ (col(&quot;sku&quot;).str.starts_wi...; [(0, 2)]</title>\n",
       "<path fill=\"none\" stroke=\"black\" d=\"M143,-88.87C143,-77.64 143,-64.49 143,-53.25\"/>\n",
       "</g>\n",
       "</g>\n",
       "</svg>"
      ],
      "text/plain": [
       "<IPython.core.display.SVG object>"
      ]
     },
     "metadata": {},
     "output_type": "display_data"
    },
    {
     "data": {
      "text/html": [
       "<div><style>\n",
       ".dataframe > thead > tr,\n",
       ".dataframe > tbody > tr {\n",
       "  text-align: right;\n",
       "  white-space: pre-wrap;\n",
       "}\n",
       "</style>\n",
       "<small>shape: (5, 3)</small><table border=\"1\" class=\"dataframe\"><thead><tr><th>name</th><th>phone</th><th>ordercount</th></tr><tr><td>str</td><td>str</td><td>u32</td></tr></thead><tbody><tr><td>&quot;Renee Harmon&quot;</td><td>&quot;607-231-3605&quot;</td><td>5</td></tr><tr><td>&quot;James Eaton&quot;</td><td>&quot;838-958-4372&quot;</td><td>3</td></tr><tr><td>&quot;Lindsey Mays&quot;</td><td>&quot;631-280-4337&quot;</td><td>2</td></tr><tr><td>&quot;Christopher Ga…</td><td>&quot;716-263-0817&quot;</td><td>2</td></tr><tr><td>&quot;Mark Huber&quot;</td><td>&quot;516-870-0290&quot;</td><td>1</td></tr></tbody></table></div>"
      ],
      "text/plain": [
       "shape: (5, 3)\n",
       "┌────────────────────┬──────────────┬────────────┐\n",
       "│ name               ┆ phone        ┆ ordercount │\n",
       "│ ---                ┆ ---          ┆ ---        │\n",
       "│ str                ┆ str          ┆ u32        │\n",
       "╞════════════════════╪══════════════╪════════════╡\n",
       "│ Renee Harmon       ┆ 607-231-3605 ┆ 5          │\n",
       "│ James Eaton        ┆ 838-958-4372 ┆ 3          │\n",
       "│ Lindsey Mays       ┆ 631-280-4337 ┆ 2          │\n",
       "│ Christopher Garcia ┆ 716-263-0817 ┆ 2          │\n",
       "│ Mark Huber         ┆ 516-870-0290 ┆ 1          │\n",
       "└────────────────────┴──────────────┴────────────┘"
      ]
     },
     "execution_count": 16,
     "metadata": {},
     "output_type": "execute_result"
    }
   ],
   "source": [
    "day4_lazy = (\n",
    "    df.lazy()\n",
    "    .filter(\n",
    "        (pl.col(\"sku\").str.starts_with(\"BKY\"))\n",
    "        & (pl.col(\"ordered\").str.strptime(pl.Datetime).dt.hour() == 4)\n",
    "    )\n",
    "    .group_by([\"name\", \"phone\"])\n",
    "    .agg(pl.col(\"orderid\").count().alias(\"ordercount\"))\n",
    "    .top_k(5, by=\"ordercount\")\n",
    ")\n",
    "\n",
    "print(\"Unoptimized query plan & graph...\")\n",
    "print(\"\\n\".join(day4_lazy.explain(optimized=False).split(\";\")))\n",
    "day4_lazy.show_graph(optimized=False)\n",
    "\n",
    "print(\"Optimized query plan & graph...\")\n",
    "print(\"\\n\".join(day4_lazy.explain(optimized=True).split(\";\")))\n",
    "day4_lazy.show_graph(optimized=True)\n",
    "\n",
    "day4_lazy.collect().select([\"name\", \"phone\", \"ordercount\"])"
   ]
  },
  {
   "cell_type": "markdown",
   "id": "7ffb8407-78ed-4603-95d0-d4bb9a122426",
   "metadata": {},
   "source": [
    "### Day 5\n",
    "\n",
    "- Target customer is from Staten Island\n",
    "- Has lots of (old) cats"
   ]
  },
  {
   "cell_type": "code",
   "execution_count": 11,
   "id": "83bbbae9-f9e1-43b5-8fd6-efa06a6f61ea",
   "metadata": {},
   "outputs": [
    {
     "data": {
      "text/html": [
       "<div><style>\n",
       ".dataframe > thead > tr,\n",
       ".dataframe > tbody > tr {\n",
       "  text-align: right;\n",
       "  white-space: pre-wrap;\n",
       "}\n",
       "</style>\n",
       "<small>shape: (5, 3)</small><table border=\"1\" class=\"dataframe\"><thead><tr><th>name</th><th>phone</th><th>ordercount</th></tr><tr><td>str</td><td>str</td><td>u32</td></tr></thead><tbody><tr><td>&quot;Nicole Wilson&quot;</td><td>&quot;631-507-6048&quot;</td><td>21</td></tr><tr><td>&quot;Dawn Shelton&quot;</td><td>&quot;680-260-3507&quot;</td><td>6</td></tr><tr><td>&quot;Kayla Solis&quot;</td><td>&quot;929-877-1866&quot;</td><td>6</td></tr><tr><td>&quot;Brian Hudson I…</td><td>&quot;516-570-4577&quot;</td><td>6</td></tr><tr><td>&quot;Sean Wade Jr.&quot;</td><td>&quot;347-916-9069&quot;</td><td>5</td></tr></tbody></table></div>"
      ],
      "text/plain": [
       "shape: (5, 3)\n",
       "┌──────────────────┬──────────────┬────────────┐\n",
       "│ name             ┆ phone        ┆ ordercount │\n",
       "│ ---              ┆ ---          ┆ ---        │\n",
       "│ str              ┆ str          ┆ u32        │\n",
       "╞══════════════════╪══════════════╪════════════╡\n",
       "│ Nicole Wilson    ┆ 631-507-6048 ┆ 21         │\n",
       "│ Dawn Shelton     ┆ 680-260-3507 ┆ 6          │\n",
       "│ Kayla Solis      ┆ 929-877-1866 ┆ 6          │\n",
       "│ Brian Hudson III ┆ 516-570-4577 ┆ 6          │\n",
       "│ Sean Wade Jr.    ┆ 347-916-9069 ┆ 5          │\n",
       "└──────────────────┴──────────────┴────────────┘"
      ]
     },
     "execution_count": 11,
     "metadata": {},
     "output_type": "execute_result"
    }
   ],
   "source": [
    "day5 = (\n",
    "    df.filter(\n",
    "        (pl.col(\"citystatezip\").str.starts_with(\"Staten Island\"))\n",
    "        & (pl.col(\"desc\").str.contains(r\"(?i)senior.*cat\"))\n",
    "    )\n",
    "    .group_by([\"name\", \"phone\"])\n",
    "    .agg(pl.col(\"orderid\").count().alias(\"ordercount\"))\n",
    ")\n",
    "\n",
    "day5.top_k(5, by=\"ordercount\")"
   ]
  },
  {
   "cell_type": "markdown",
   "id": "0f73fdd2-c344-4ce2-9c58-95fbcf1fb2e2",
   "metadata": {},
   "source": [
    "### Day 6\n",
    "\n",
    "- Target customer is a bargain hunter\n",
    "- Noah's loses money on this customer's purchases"
   ]
  },
  {
   "cell_type": "code",
   "execution_count": 12,
   "id": "b182f9ba-e2be-44c8-a815-3344faad7c84",
   "metadata": {},
   "outputs": [
    {
     "data": {
      "text/html": [
       "<div><style>\n",
       ".dataframe > thead > tr,\n",
       ".dataframe > tbody > tr {\n",
       "  text-align: right;\n",
       "  white-space: pre-wrap;\n",
       "}\n",
       "</style>\n",
       "<small>shape: (5, 3)</small><table border=\"1\" class=\"dataframe\"><thead><tr><th>name</th><th>phone</th><th>profit</th></tr><tr><td>str</td><td>str</td><td>f64</td></tr></thead><tbody><tr><td>&quot;Sherri Long&quot;</td><td>&quot;585-838-9161&quot;</td><td>-92.03</td></tr><tr><td>&quot;Lisa Archer&quot;</td><td>&quot;989-571-6656&quot;</td><td>-2.28</td></tr><tr><td>&quot;Chelsea Fergus…</td><td>&quot;716-633-6717&quot;</td><td>-0.17</td></tr><tr><td>&quot;David Pratt&quot;</td><td>&quot;718-810-9458&quot;</td><td>-0.04</td></tr><tr><td>&quot;Sharon Washing…</td><td>&quot;716-953-2607&quot;</td><td>-0.02</td></tr></tbody></table></div>"
      ],
      "text/plain": [
       "shape: (5, 3)\n",
       "┌───────────────────┬──────────────┬────────┐\n",
       "│ name              ┆ phone        ┆ profit │\n",
       "│ ---               ┆ ---          ┆ ---    │\n",
       "│ str               ┆ str          ┆ f64    │\n",
       "╞═══════════════════╪══════════════╪════════╡\n",
       "│ Sherri Long       ┆ 585-838-9161 ┆ -92.03 │\n",
       "│ Lisa Archer       ┆ 989-571-6656 ┆ -2.28  │\n",
       "│ Chelsea Ferguson  ┆ 716-633-6717 ┆ -0.17  │\n",
       "│ David Pratt       ┆ 718-810-9458 ┆ -0.04  │\n",
       "│ Sharon Washington ┆ 716-953-2607 ┆ -0.02  │\n",
       "└───────────────────┴──────────────┴────────┘"
      ]
     },
     "execution_count": 12,
     "metadata": {},
     "output_type": "execute_result"
    }
   ],
   "source": [
    "day6 = (\n",
    "    df.with_columns(\n",
    "        profit=pl.col(\"qty\") * (pl.col(\"unit_price\") - pl.col(\"wholesale_cost\"))\n",
    "    )\n",
    "    .group_by([\"name\", \"phone\"])\n",
    "    .agg(pl.col(\"profit\").sum())\n",
    ")\n",
    "\n",
    "day6.bottom_k(5, by=\"profit\")"
   ]
  },
  {
   "cell_type": "code",
   "execution_count": null,
   "id": "d9d6f84e-1f50-4c25-a49b-52ff8b4875e7",
   "metadata": {},
   "outputs": [],
   "source": []
  }
 ],
 "metadata": {
  "kernelspec": {
   "display_name": "hod",
   "language": "python",
   "name": "hod"
  },
  "language_info": {
   "codemirror_mode": {
    "name": "ipython",
    "version": 3
   },
   "file_extension": ".py",
   "mimetype": "text/x-python",
   "name": "python",
   "nbconvert_exporter": "python",
   "pygments_lexer": "ipython3",
   "version": "3.12.0"
  }
 },
 "nbformat": 4,
 "nbformat_minor": 5
}
